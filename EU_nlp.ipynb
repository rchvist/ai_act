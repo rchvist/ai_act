{
 "cells": [
  {
   "cell_type": "code",
   "execution_count": 52,
   "metadata": {},
   "outputs": [],
   "source": [
    "import pandas as pd\n",
    "import re"
   ]
  },
  {
   "cell_type": "code",
   "execution_count": 53,
   "metadata": {},
   "outputs": [],
   "source": [
    "from bertopic import BERTopic"
   ]
  },
  {
   "cell_type": "code",
   "execution_count": 55,
   "metadata": {},
   "outputs": [
    {
     "name": "stderr",
     "output_type": "stream",
     "text": [
      "Some weights of RobertaModel were not initialized from the model checkpoint at siebert/sentiment-roberta-large-english and are newly initialized: ['roberta.pooler.dense.weight', 'roberta.pooler.dense.bias']\n",
      "You should probably TRAIN this model on a down-stream task to be able to use it for predictions and inference.\n"
     ]
    },
    {
     "name": "stdout",
     "output_type": "stream",
     "text": [
      "[{'label': 'POSITIVE', 'score': 0.9988656640052795}]\n"
     ]
    }
   ],
   "source": [
    "from transformers import pipeline\n",
    "sentiment_analysis = pipeline(\"sentiment-analysis\",model=\"siebert/sentiment-roberta-large-english\")\n",
    "print(sentiment_analysis(\"I love this!\"))"
   ]
  },
  {
   "cell_type": "code",
   "execution_count": null,
   "metadata": {},
   "outputs": [],
   "source": [
    "df = pd.read_csv(\"data_EU_w_text.csv\")"
   ]
  },
  {
   "cell_type": "code",
   "execution_count": null,
   "metadata": {},
   "outputs": [],
   "source": [
    "df=df.iloc[:,1:]"
   ]
  },
  {
   "cell_type": "code",
   "execution_count": 56,
   "metadata": {},
   "outputs": [],
   "source": [
    "# df=pd.read_csv(\"exploded2.csv\")"
   ]
  },
  {
   "cell_type": "code",
   "execution_count": 58,
   "metadata": {},
   "outputs": [],
   "source": [
    "# df=pd.read_csv(\"data_EU_full.csv\")\n",
    "# df[df.columns[[4,5,6,7,8,9,14]]].to_excel(\"about_labels.xlsx\")"
   ]
  },
  {
   "cell_type": "code",
   "execution_count": 59,
   "metadata": {},
   "outputs": [],
   "source": [
    "df[\"Fulltext\"].fillna(df[\"Message\"], inplace=True)"
   ]
  },
  {
   "cell_type": "code",
   "execution_count": 60,
   "metadata": {},
   "outputs": [],
   "source": [
    "df.Fulltext=df.Fulltext.str.replace('\\xa0', '')"
   ]
  },
  {
   "cell_type": "code",
   "execution_count": 61,
   "metadata": {},
   "outputs": [],
   "source": [
    "df.Fulltext=df.Fulltext.str.replace(r' {2,}', ' ')"
   ]
  },
  {
   "cell_type": "code",
   "execution_count": 62,
   "metadata": {},
   "outputs": [],
   "source": [
    "df.Fulltext=df.Fulltext.str.replace(r'[\\n|\\t|\\r] ', '\\n')"
   ]
  },
  {
   "cell_type": "code",
   "execution_count": 63,
   "metadata": {},
   "outputs": [],
   "source": [
    "regex_prgph_esp = re.compile(r'([\\n|\\t|\\r]{1,}( |\\t)*[\\n|\\t|\\r]){1,}')"
   ]
  },
  {
   "cell_type": "code",
   "execution_count": 64,
   "metadata": {},
   "outputs": [],
   "source": [
    "df.Fulltext=df.Fulltext.str.replace(regex_prgph_esp, '\\n\\n')"
   ]
  },
  {
   "cell_type": "code",
   "execution_count": 65,
   "metadata": {},
   "outputs": [],
   "source": [
    "regex_multipar = re.compile(r'([\\n|\\t|\\r]{2,})')"
   ]
  },
  {
   "cell_type": "code",
   "execution_count": 66,
   "metadata": {},
   "outputs": [],
   "source": [
    "df.Fulltext=df.Fulltext.str.replace(regex_multipar, '\\n\\n')"
   ]
  },
  {
   "cell_type": "code",
   "execution_count": 67,
   "metadata": {},
   "outputs": [],
   "source": [
    "df[\"Fulltext\"]=df[\"Fulltext\"].str.replace(r'[\\n|\\t|\\r]{1,}(?=([a-z]|[[:punct:]]))', '', flags=re.DOTALL)"
   ]
  },
  {
   "cell_type": "code",
   "execution_count": 68,
   "metadata": {},
   "outputs": [],
   "source": [
    "# Fct pour Retirer les liens\n",
    "def remove_html(text_data):\n",
    "  txt = re.sub(r'\\w+:\\/{2}[\\d\\w-]+(\\.[\\d\\w-]+)*(?:(?:\\/[^\\s/]*))*', '', str(text_data))\n",
    "  #soup = BeautifulSoup(txt, 'lxml')\n",
    "  #txt = soup.get_text()\n",
    "  return txt"
   ]
  },
  {
   "cell_type": "code",
   "execution_count": 69,
   "metadata": {},
   "outputs": [],
   "source": [
    "df.Fulltext=df.Fulltext.apply(lambda x : remove_html(x))"
   ]
  },
  {
   "cell_type": "code",
   "execution_count": 70,
   "metadata": {},
   "outputs": [],
   "source": [
    "# df.dropna(axis=0, subset=[\"Fulltext\"]).to_csv(\"data_EU.csv\", sep='\\t')"
   ]
  },
  {
   "cell_type": "code",
   "execution_count": null,
   "metadata": {},
   "outputs": [],
   "source": []
  },
  {
   "cell_type": "code",
   "execution_count": 71,
   "metadata": {},
   "outputs": [],
   "source": [
    "#text_business = df[df[\"User type\"]==\"Business association\"][\"Fulltext\"].dropna().str.join('')"
   ]
  },
  {
   "cell_type": "code",
   "execution_count": 72,
   "metadata": {},
   "outputs": [],
   "source": [
    "#text_business = ' '.join(text_business)"
   ]
  },
  {
   "cell_type": "code",
   "execution_count": 73,
   "metadata": {},
   "outputs": [],
   "source": [
    "#text_business = text_business.split('\\n\\n')"
   ]
  },
  {
   "cell_type": "code",
   "execution_count": 74,
   "metadata": {},
   "outputs": [],
   "source": [
    "# model = BERTopic(nr_topics=40)\n",
    "# topics, probabilities = model.fit_transform(text_business)"
   ]
  },
  {
   "cell_type": "code",
   "execution_count": 75,
   "metadata": {},
   "outputs": [],
   "source": [
    "# probabilities"
   ]
  },
  {
   "cell_type": "markdown",
   "metadata": {},
   "source": [
    "## ABOUT LABELS\n",
    "\n",
    "https://regex101.com/r/4pTL5h/1/\n"
   ]
  },
  {
   "cell_type": "code",
   "execution_count": 76,
   "metadata": {},
   "outputs": [],
   "source": [
    "import re"
   ]
  },
  {
   "cell_type": "code",
   "execution_count": 77,
   "metadata": {},
   "outputs": [],
   "source": [
    "df.Fulltext = df.Fulltext.str.replace(\"labeling\", \"labelling\")"
   ]
  },
  {
   "cell_type": "code",
   "execution_count": 78,
   "metadata": {},
   "outputs": [],
   "source": [
    "# utiliser re.DOTALL ou pas ?"
   ]
  },
  {
   "cell_type": "code",
   "execution_count": 79,
   "metadata": {},
   "outputs": [],
   "source": [
    "rx_labels = re.compile(r'((?:[\\n|\\t|\\r]{1,}|^).*(?:label|Label).+?(?=[\\n|\\t|\\r]{1,}[A-Z|1-9]))', flags=re.IGNORECASE | re.MULTILINE)"
   ]
  },
  {
   "cell_type": "code",
   "execution_count": 80,
   "metadata": {},
   "outputs": [],
   "source": [
    "def get_paragraphs(keyword,text):\n",
    "    list_pgphs = []\n",
    "    for prgph in text.split('\\n') :\n",
    "        if keyword in prgph :\n",
    "            list_pgphs.append(prgph)\n",
    "    return \"\\n\".join(list_pgphs)"
   ]
  },
  {
   "cell_type": "code",
   "execution_count": 81,
   "metadata": {},
   "outputs": [],
   "source": [
    "df[\"About_labels\"]=df[\"Fulltext\"].dropna().apply(lambda x : get_paragraphs(\"label\", x))"
   ]
  },
  {
   "cell_type": "code",
   "execution_count": 82,
   "metadata": {},
   "outputs": [],
   "source": [
    "def is_empty_list(li) :\n",
    "        if not li :\n",
    "            return pd.NA\n",
    "        else :\n",
    "            return li"
   ]
  },
  {
   "cell_type": "code",
   "execution_count": 83,
   "metadata": {},
   "outputs": [],
   "source": [
    "df[\"About_labels\"]=df[\"About_labels\"].apply(lambda x : is_empty_list(x))"
   ]
  },
  {
   "cell_type": "code",
   "execution_count": 84,
   "metadata": {},
   "outputs": [],
   "source": [
    "df[\"IsLobby\"] = pd.isna(df[\"Transparency register number\"])\n",
    "df[\"IsLobby\"] = df[\"IsLobby\"].astype(int)\n",
    "# df[df[\"Transparency register number\"].notna()]"
   ]
  },
  {
   "cell_type": "code",
   "execution_count": 85,
   "metadata": {},
   "outputs": [],
   "source": [
    "df2 = df"
   ]
  },
  {
   "cell_type": "code",
   "execution_count": 86,
   "metadata": {},
   "outputs": [
    {
     "ename": "AttributeError",
     "evalue": "'Series' object has no attribute 'split'",
     "output_type": "error",
     "traceback": [
      "\u001b[1;31m---------------------------------------------------------------------------\u001b[0m",
      "\u001b[1;31mAttributeError\u001b[0m                            Traceback (most recent call last)",
      "\u001b[1;32m<ipython-input-86-c37a808e61ef>\u001b[0m in \u001b[0;36m<module>\u001b[1;34m\u001b[0m\n\u001b[1;32m----> 1\u001b[1;33m \u001b[0mdf2\u001b[0m\u001b[1;33m[\u001b[0m\u001b[1;34m\"toexplode\"\u001b[0m\u001b[1;33m]\u001b[0m \u001b[1;33m=\u001b[0m \u001b[0mdf2\u001b[0m\u001b[1;33m.\u001b[0m\u001b[0mAbout_labels\u001b[0m\u001b[1;33m.\u001b[0m\u001b[0msplit\u001b[0m\u001b[1;33m(\u001b[0m\u001b[1;33m)\u001b[0m\u001b[1;33m\u001b[0m\u001b[1;33m\u001b[0m\u001b[0m\n\u001b[0m",
      "\u001b[1;32mC:\\ProgramData\\Anaconda3\\lib\\site-packages\\pandas\\core\\generic.py\u001b[0m in \u001b[0;36m__getattr__\u001b[1;34m(self, name)\u001b[0m\n\u001b[0;32m   5463\u001b[0m             \u001b[1;32mif\u001b[0m \u001b[0mself\u001b[0m\u001b[1;33m.\u001b[0m\u001b[0m_info_axis\u001b[0m\u001b[1;33m.\u001b[0m\u001b[0m_can_hold_identifiers_and_holds_name\u001b[0m\u001b[1;33m(\u001b[0m\u001b[0mname\u001b[0m\u001b[1;33m)\u001b[0m\u001b[1;33m:\u001b[0m\u001b[1;33m\u001b[0m\u001b[1;33m\u001b[0m\u001b[0m\n\u001b[0;32m   5464\u001b[0m                 \u001b[1;32mreturn\u001b[0m \u001b[0mself\u001b[0m\u001b[1;33m[\u001b[0m\u001b[0mname\u001b[0m\u001b[1;33m]\u001b[0m\u001b[1;33m\u001b[0m\u001b[1;33m\u001b[0m\u001b[0m\n\u001b[1;32m-> 5465\u001b[1;33m             \u001b[1;32mreturn\u001b[0m \u001b[0mobject\u001b[0m\u001b[1;33m.\u001b[0m\u001b[0m__getattribute__\u001b[0m\u001b[1;33m(\u001b[0m\u001b[0mself\u001b[0m\u001b[1;33m,\u001b[0m \u001b[0mname\u001b[0m\u001b[1;33m)\u001b[0m\u001b[1;33m\u001b[0m\u001b[1;33m\u001b[0m\u001b[0m\n\u001b[0m\u001b[0;32m   5466\u001b[0m \u001b[1;33m\u001b[0m\u001b[0m\n\u001b[0;32m   5467\u001b[0m     \u001b[1;32mdef\u001b[0m \u001b[0m__setattr__\u001b[0m\u001b[1;33m(\u001b[0m\u001b[0mself\u001b[0m\u001b[1;33m,\u001b[0m \u001b[0mname\u001b[0m\u001b[1;33m:\u001b[0m \u001b[0mstr\u001b[0m\u001b[1;33m,\u001b[0m \u001b[0mvalue\u001b[0m\u001b[1;33m)\u001b[0m \u001b[1;33m->\u001b[0m \u001b[1;32mNone\u001b[0m\u001b[1;33m:\u001b[0m\u001b[1;33m\u001b[0m\u001b[1;33m\u001b[0m\u001b[0m\n",
      "\u001b[1;31mAttributeError\u001b[0m: 'Series' object has no attribute 'split'"
     ]
    }
   ],
   "source": [
    "df2[\"toexplode\"] = df2.About_labels.split()"
   ]
  },
  {
   "cell_type": "code",
   "execution_count": null,
   "metadata": {},
   "outputs": [],
   "source": [
    "df[df[\"Transparency register number\"].notna()]"
   ]
  },
  {
   "cell_type": "code",
   "execution_count": null,
   "metadata": {},
   "outputs": [],
   "source": [
    "df.to_csv(\"data_EU_full.csv\")"
   ]
  },
  {
   "cell_type": "markdown",
   "metadata": {},
   "source": [
    "### Pré processing"
   ]
  },
  {
   "cell_type": "code",
   "execution_count": 93,
   "metadata": {},
   "outputs": [
    {
     "data": {
      "text/html": [
       "<div>\n",
       "<style scoped>\n",
       "    .dataframe tbody tr th:only-of-type {\n",
       "        vertical-align: middle;\n",
       "    }\n",
       "\n",
       "    .dataframe tbody tr th {\n",
       "        vertical-align: top;\n",
       "    }\n",
       "\n",
       "    .dataframe thead th {\n",
       "        text-align: right;\n",
       "    }\n",
       "</style>\n",
       "<table border=\"1\" class=\"dataframe\">\n",
       "  <thead>\n",
       "    <tr style=\"text-align: right;\">\n",
       "      <th></th>\n",
       "      <th>Unnamed: 0</th>\n",
       "      <th>Feedback reference</th>\n",
       "      <th>Submitted on</th>\n",
       "      <th>Submitted by</th>\n",
       "      <th>User type</th>\n",
       "      <th>Organisation</th>\n",
       "      <th>Organisation size</th>\n",
       "      <th>Transparency register number</th>\n",
       "      <th>Scope</th>\n",
       "      <th>Country of origin</th>\n",
       "      <th>Initiative</th>\n",
       "      <th>Message</th>\n",
       "      <th>File</th>\n",
       "      <th>Fulltext</th>\n",
       "      <th>About_labels</th>\n",
       "      <th>IsLobby</th>\n",
       "    </tr>\n",
       "  </thead>\n",
       "  <tbody>\n",
       "    <tr>\n",
       "      <th>0</th>\n",
       "      <td>0</td>\n",
       "      <td>F551055</td>\n",
       "      <td>10 September 2020</td>\n",
       "      <td>Douglas Johnson</td>\n",
       "      <td>Business association</td>\n",
       "      <td>Consumer Technology Association</td>\n",
       "      <td>Medium (50 to 249 employees)</td>\n",
       "      <td>NaN</td>\n",
       "      <td>NaN</td>\n",
       "      <td>United States</td>\n",
       "      <td>Artificial intelligence – ethical and legal re...</td>\n",
       "      <td>CTA's comments are in the attached file.Feedba...</td>\n",
       "      <td>https://ec.europa.eu/info/law/better-regulatio...</td>\n",
       "      <td>\\n\\nSeptember 10, 2020 \\n\\nConsumer Technolog...</td>\n",
       "      <td>&lt;NA&gt;</td>\n",
       "      <td>1</td>\n",
       "    </tr>\n",
       "    <tr>\n",
       "      <th>1</th>\n",
       "      <td>1</td>\n",
       "      <td>F551054</td>\n",
       "      <td>10 September 2020</td>\n",
       "      <td>Stan Adams</td>\n",
       "      <td>Non-governmental organisation (NGO)</td>\n",
       "      <td>Center for Democracy &amp; Technology</td>\n",
       "      <td>Small (10 to 49 employees)</td>\n",
       "      <td>NaN</td>\n",
       "      <td>NaN</td>\n",
       "      <td>United States</td>\n",
       "      <td>Artificial intelligence – ethical and legal re...</td>\n",
       "      <td>CDT welcomes the opportunity to provide input ...</td>\n",
       "      <td>NaN</td>\n",
       "      <td>CDT welcomes the opportunity to provide input ...</td>\n",
       "      <td>&lt;NA&gt;</td>\n",
       "      <td>1</td>\n",
       "    </tr>\n",
       "    <tr>\n",
       "      <th>2</th>\n",
       "      <td>2</td>\n",
       "      <td>F551053</td>\n",
       "      <td>10 September 2020</td>\n",
       "      <td>Paolo Grassia</td>\n",
       "      <td>Business association</td>\n",
       "      <td>ETNO - European Telecommunications Network Ope...</td>\n",
       "      <td>Micro (1 to 9 employees)</td>\n",
       "      <td>08957111909-85</td>\n",
       "      <td>NaN</td>\n",
       "      <td>Belgium</td>\n",
       "      <td>Artificial intelligence – ethical and legal re...</td>\n",
       "      <td>ETNO welcomes the Commission’s objective to fo...</td>\n",
       "      <td>https://ec.europa.eu/info/law/better-regulatio...</td>\n",
       "      <td>\\n\\nJune 2020 \\n\\nEuropean Commission's White...</td>\n",
       "      <td>Voluntary labelling \\nA voluntary labelling fr...</td>\n",
       "      <td>0</td>\n",
       "    </tr>\n",
       "    <tr>\n",
       "      <th>3</th>\n",
       "      <td>3</td>\n",
       "      <td>F551052</td>\n",
       "      <td>10 September 2020</td>\n",
       "      <td>Ena Salihovic</td>\n",
       "      <td>Business association</td>\n",
       "      <td>EuroCommerce</td>\n",
       "      <td>Small (10 to 49 employees)</td>\n",
       "      <td>NaN</td>\n",
       "      <td>NaN</td>\n",
       "      <td>Belgium</td>\n",
       "      <td>Artificial intelligence – ethical and legal re...</td>\n",
       "      <td>Artificial Intelligence (AI) can offer signifi...</td>\n",
       "      <td>https://ec.europa.eu/info/law/better-regulatio...</td>\n",
       "      <td>\\nSeptember 2020 \\n\\nEuroCommerce contributio...</td>\n",
       "      <td>• A voluntary labelling scheme under Option 2 ...</td>\n",
       "      <td>1</td>\n",
       "    </tr>\n",
       "    <tr>\n",
       "      <th>4</th>\n",
       "      <td>4</td>\n",
       "      <td>F551051</td>\n",
       "      <td>10 September 2020</td>\n",
       "      <td>Michal Kardos</td>\n",
       "      <td>Business association</td>\n",
       "      <td>Slovak Alliance for Innovation Economy</td>\n",
       "      <td>Micro (1 to 9 employees)</td>\n",
       "      <td>NaN</td>\n",
       "      <td>NaN</td>\n",
       "      <td>Slovakia</td>\n",
       "      <td>Artificial intelligence – ethical and legal re...</td>\n",
       "      <td>Smart government approaches to regulation will...</td>\n",
       "      <td>https://ec.europa.eu/info/law/better-regulatio...</td>\n",
       "      <td>Slovenská aliancia pre inovatívnu ekonomiku \\n...</td>\n",
       "      <td>Option 2: EU legislative instrument setting up...</td>\n",
       "      <td>1</td>\n",
       "    </tr>\n",
       "    <tr>\n",
       "      <th>...</th>\n",
       "      <td>...</td>\n",
       "      <td>...</td>\n",
       "      <td>...</td>\n",
       "      <td>...</td>\n",
       "      <td>...</td>\n",
       "      <td>...</td>\n",
       "      <td>...</td>\n",
       "      <td>...</td>\n",
       "      <td>...</td>\n",
       "      <td>...</td>\n",
       "      <td>...</td>\n",
       "      <td>...</td>\n",
       "      <td>...</td>\n",
       "      <td>...</td>\n",
       "      <td>...</td>\n",
       "      <td>...</td>\n",
       "    </tr>\n",
       "    <tr>\n",
       "      <th>149</th>\n",
       "      <td>149</td>\n",
       "      <td>F540758</td>\n",
       "      <td>04 August 2020</td>\n",
       "      <td>NaN</td>\n",
       "      <td>NaN</td>\n",
       "      <td>NaN</td>\n",
       "      <td>NaN</td>\n",
       "      <td>NaN</td>\n",
       "      <td>NaN</td>\n",
       "      <td>NaN</td>\n",
       "      <td>Artificial intelligence – ethical and legal re...</td>\n",
       "      <td>1.\\tOpportunität eines Regulierungsrahmens für...</td>\n",
       "      <td>https://ec.europa.eu/info/law/better-regulatio...</td>\n",
       "      <td>\\n\\nBerlin, 3. August 2020 \\n\\nDeutscher Indu...</td>\n",
       "      <td>&lt;NA&gt;</td>\n",
       "      <td>1</td>\n",
       "    </tr>\n",
       "    <tr>\n",
       "      <th>150</th>\n",
       "      <td>150</td>\n",
       "      <td>F540645</td>\n",
       "      <td>03 August 2020</td>\n",
       "      <td>patrick GRANT</td>\n",
       "      <td>Business association</td>\n",
       "      <td>BusinessEurope</td>\n",
       "      <td>Small (10 to 49 employees)</td>\n",
       "      <td>3978240953-79</td>\n",
       "      <td>NaN</td>\n",
       "      <td>Belgium</td>\n",
       "      <td>Artificial intelligence – ethical and legal re...</td>\n",
       "      <td>BusinessEurope welcomes the positive tone of t...</td>\n",
       "      <td>https://ec.europa.eu/info/law/better-regulatio...</td>\n",
       "      <td>\\n\\nPOSITION PAPER \\n\\n15/07/20 \\n\\nAI: A Eur...</td>\n",
       "      <td>• A voluntary labelling system for AI not cove...</td>\n",
       "      <td>0</td>\n",
       "    </tr>\n",
       "    <tr>\n",
       "      <th>151</th>\n",
       "      <td>151</td>\n",
       "      <td>F539970</td>\n",
       "      <td>30 July 2020</td>\n",
       "      <td>NaN</td>\n",
       "      <td>NaN</td>\n",
       "      <td>NaN</td>\n",
       "      <td>NaN</td>\n",
       "      <td>NaN</td>\n",
       "      <td>NaN</td>\n",
       "      <td>NaN</td>\n",
       "      <td>Artificial intelligence – ethical and legal re...</td>\n",
       "      <td>I would like to express my support for the 2nd...</td>\n",
       "      <td>NaN</td>\n",
       "      <td>I would like to express my support for the 2nd...</td>\n",
       "      <td>I would like to express my support for the 2nd...</td>\n",
       "      <td>1</td>\n",
       "    </tr>\n",
       "    <tr>\n",
       "      <th>152</th>\n",
       "      <td>152</td>\n",
       "      <td>F539630</td>\n",
       "      <td>28 July 2020</td>\n",
       "      <td>Bart De Witte</td>\n",
       "      <td>EU citizen</td>\n",
       "      <td>NaN</td>\n",
       "      <td>NaN</td>\n",
       "      <td>NaN</td>\n",
       "      <td>NaN</td>\n",
       "      <td>Germany</td>\n",
       "      <td>Artificial intelligence – ethical and legal re...</td>\n",
       "      <td>As we had great concerns that the first releas...</td>\n",
       "      <td>NaN</td>\n",
       "      <td>As we had great concerns that the first releas...</td>\n",
       "      <td>&lt;NA&gt;</td>\n",
       "      <td>1</td>\n",
       "    </tr>\n",
       "    <tr>\n",
       "      <th>153</th>\n",
       "      <td>153</td>\n",
       "      <td>F539194</td>\n",
       "      <td>24 July 2020</td>\n",
       "      <td>Paul MACDONNELL</td>\n",
       "      <td>Non-governmental organisation (NGO)</td>\n",
       "      <td>Global Digital Foundation</td>\n",
       "      <td>Micro (1 to 9 employees)</td>\n",
       "      <td>352788324603-77</td>\n",
       "      <td>NaN</td>\n",
       "      <td>Ireland</td>\n",
       "      <td>Artificial intelligence – ethical and legal re...</td>\n",
       "      <td>Policy analysts and policymakers are respondin...</td>\n",
       "      <td>https://ec.europa.eu/info/law/better-regulatio...</td>\n",
       "      <td>\\n\\nMaking Rules for AI \\n\\nThe errors and fa...</td>\n",
       "      <td>&lt;NA&gt;</td>\n",
       "      <td>0</td>\n",
       "    </tr>\n",
       "  </tbody>\n",
       "</table>\n",
       "<p>154 rows × 16 columns</p>\n",
       "</div>"
      ],
      "text/plain": [
       "     Unnamed: 0 Feedback reference       Submitted on     Submitted by  \\\n",
       "0             0            F551055  10 September 2020  Douglas Johnson   \n",
       "1             1            F551054  10 September 2020       Stan Adams   \n",
       "2             2            F551053  10 September 2020    Paolo Grassia   \n",
       "3             3            F551052  10 September 2020    Ena Salihovic   \n",
       "4             4            F551051  10 September 2020    Michal Kardos   \n",
       "..          ...                ...                ...              ...   \n",
       "149         149            F540758     04 August 2020              NaN   \n",
       "150         150            F540645     03 August 2020    patrick GRANT   \n",
       "151         151            F539970       30 July 2020              NaN   \n",
       "152         152            F539630       28 July 2020    Bart De Witte   \n",
       "153         153            F539194       24 July 2020  Paul MACDONNELL   \n",
       "\n",
       "                               User type  \\\n",
       "0                   Business association   \n",
       "1    Non-governmental organisation (NGO)   \n",
       "2                   Business association   \n",
       "3                   Business association   \n",
       "4                   Business association   \n",
       "..                                   ...   \n",
       "149                                  NaN   \n",
       "150                 Business association   \n",
       "151                                  NaN   \n",
       "152                           EU citizen   \n",
       "153  Non-governmental organisation (NGO)   \n",
       "\n",
       "                                          Organisation  \\\n",
       "0                      Consumer Technology Association   \n",
       "1                    Center for Democracy & Technology   \n",
       "2    ETNO - European Telecommunications Network Ope...   \n",
       "3                                         EuroCommerce   \n",
       "4               Slovak Alliance for Innovation Economy   \n",
       "..                                                 ...   \n",
       "149                                                NaN   \n",
       "150                                     BusinessEurope   \n",
       "151                                                NaN   \n",
       "152                                                NaN   \n",
       "153                          Global Digital Foundation   \n",
       "\n",
       "                Organisation size Transparency register number Scope  \\\n",
       "0    Medium (50 to 249 employees)                          NaN   NaN   \n",
       "1      Small (10 to 49 employees)                          NaN   NaN   \n",
       "2        Micro (1 to 9 employees)               08957111909-85   NaN   \n",
       "3      Small (10 to 49 employees)                          NaN   NaN   \n",
       "4        Micro (1 to 9 employees)                          NaN   NaN   \n",
       "..                            ...                          ...   ...   \n",
       "149                           NaN                          NaN   NaN   \n",
       "150    Small (10 to 49 employees)                3978240953-79   NaN   \n",
       "151                           NaN                          NaN   NaN   \n",
       "152                           NaN                          NaN   NaN   \n",
       "153      Micro (1 to 9 employees)              352788324603-77   NaN   \n",
       "\n",
       "    Country of origin                                         Initiative  \\\n",
       "0       United States  Artificial intelligence – ethical and legal re...   \n",
       "1       United States  Artificial intelligence – ethical and legal re...   \n",
       "2             Belgium  Artificial intelligence – ethical and legal re...   \n",
       "3             Belgium  Artificial intelligence – ethical and legal re...   \n",
       "4            Slovakia  Artificial intelligence – ethical and legal re...   \n",
       "..                ...                                                ...   \n",
       "149               NaN  Artificial intelligence – ethical and legal re...   \n",
       "150           Belgium  Artificial intelligence – ethical and legal re...   \n",
       "151               NaN  Artificial intelligence – ethical and legal re...   \n",
       "152           Germany  Artificial intelligence – ethical and legal re...   \n",
       "153           Ireland  Artificial intelligence – ethical and legal re...   \n",
       "\n",
       "                                               Message  \\\n",
       "0    CTA's comments are in the attached file.Feedba...   \n",
       "1    CDT welcomes the opportunity to provide input ...   \n",
       "2    ETNO welcomes the Commission’s objective to fo...   \n",
       "3    Artificial Intelligence (AI) can offer signifi...   \n",
       "4    Smart government approaches to regulation will...   \n",
       "..                                                 ...   \n",
       "149  1.\\tOpportunität eines Regulierungsrahmens für...   \n",
       "150  BusinessEurope welcomes the positive tone of t...   \n",
       "151  I would like to express my support for the 2nd...   \n",
       "152  As we had great concerns that the first releas...   \n",
       "153  Policy analysts and policymakers are respondin...   \n",
       "\n",
       "                                                  File  \\\n",
       "0    https://ec.europa.eu/info/law/better-regulatio...   \n",
       "1                                                  NaN   \n",
       "2    https://ec.europa.eu/info/law/better-regulatio...   \n",
       "3    https://ec.europa.eu/info/law/better-regulatio...   \n",
       "4    https://ec.europa.eu/info/law/better-regulatio...   \n",
       "..                                                 ...   \n",
       "149  https://ec.europa.eu/info/law/better-regulatio...   \n",
       "150  https://ec.europa.eu/info/law/better-regulatio...   \n",
       "151                                                NaN   \n",
       "152                                                NaN   \n",
       "153  https://ec.europa.eu/info/law/better-regulatio...   \n",
       "\n",
       "                                              Fulltext  \\\n",
       "0     \\n\\nSeptember 10, 2020 \\n\\nConsumer Technolog...   \n",
       "1    CDT welcomes the opportunity to provide input ...   \n",
       "2     \\n\\nJune 2020 \\n\\nEuropean Commission's White...   \n",
       "3     \\nSeptember 2020 \\n\\nEuroCommerce contributio...   \n",
       "4    Slovenská aliancia pre inovatívnu ekonomiku \\n...   \n",
       "..                                                 ...   \n",
       "149   \\n\\nBerlin, 3. August 2020 \\n\\nDeutscher Indu...   \n",
       "150   \\n\\nPOSITION PAPER \\n\\n15/07/20 \\n\\nAI: A Eur...   \n",
       "151  I would like to express my support for the 2nd...   \n",
       "152  As we had great concerns that the first releas...   \n",
       "153   \\n\\nMaking Rules for AI \\n\\nThe errors and fa...   \n",
       "\n",
       "                                          About_labels  IsLobby  \n",
       "0                                                 <NA>        1  \n",
       "1                                                 <NA>        1  \n",
       "2    Voluntary labelling \\nA voluntary labelling fr...        0  \n",
       "3    • A voluntary labelling scheme under Option 2 ...        1  \n",
       "4    Option 2: EU legislative instrument setting up...        1  \n",
       "..                                                 ...      ...  \n",
       "149                                               <NA>        1  \n",
       "150  • A voluntary labelling system for AI not cove...        0  \n",
       "151  I would like to express my support for the 2nd...        1  \n",
       "152                                               <NA>        1  \n",
       "153                                               <NA>        0  \n",
       "\n",
       "[154 rows x 16 columns]"
      ]
     },
     "execution_count": 93,
     "metadata": {},
     "output_type": "execute_result"
    }
   ],
   "source": [
    "df"
   ]
  },
  {
   "cell_type": "code",
   "execution_count": 87,
   "metadata": {},
   "outputs": [],
   "source": [
    "import spacy\n",
    "# nlp_ru = spacy.load(\"ru_core_news_lg\")\n",
    "nlp_en = spacy.load(\"en_core_web_lg\")"
   ]
  },
  {
   "cell_type": "code",
   "execution_count": 88,
   "metadata": {},
   "outputs": [],
   "source": [
    "def lemm_en(text):\n",
    "    nlp = nlp_en\n",
    "    doc = nlp(text)\n",
    "    #for token in doc:\n",
    "    #print(token, token.lemma, token.lemma_)\n",
    "    namelist = [name.lemma_ for name in doc.ents]\n",
    "    tokens = [token.lemma_ for token in doc]\n",
    "    # for token in doc:\n",
    "    #     print(token.text, token.pos_, token.dep_)\n",
    "    # for ent in doc.ents:\n",
    "        # print(ent.text, ent.start_char, ent.end_char, ent.label_)\n",
    "    return \" \".join(tokens)"
   ]
  },
  {
   "cell_type": "code",
   "execution_count": 89,
   "metadata": {},
   "outputs": [],
   "source": [
    "# Fct pour Retirer les emojis\n",
    "RE_EMOJI = re.compile(\n",
    "    \"[\"\n",
    "    \"\\U0001F1E0-\\U0001F1FF\"  # flags (iOS)\n",
    "    \"\\U0001F300-\\U0001F5FF\"  # symbols & pictographs\n",
    "    \"\\U0001F600-\\U0001F64F\"  # emoticons\n",
    "    \"\\U0001F680-\\U0001F6FF\"  # transport & map symbols\n",
    "    \"\\U0001F700-\\U0001F77F\"  # alchemical symbols\n",
    "    \"\\U0001F780-\\U0001F7FF\"  # Geometric Shapes Extended\n",
    "    \"\\U0001F800-\\U0001F8FF\"  # Supplemental Arrows-C\n",
    "    \"\\U0001F900-\\U0001F9FF\"  # Supplemental Symbols and Pictographs\n",
    "    \"\\U0001FA00-\\U0001FA6F\"  # Chess Symbols\n",
    "    \"\\U0001FA70-\\U0001FAFF\"  # Symbols and Pictographs Extended-A\n",
    "    \"\\U00002702-\\U000027B0\"  # Dingbats\n",
    "    \"\\U000024C2-\\U0001F251\" \n",
    "    \"]+\"\n",
    ")\n",
    "def remove_emoji(text):\n",
    "    return RE_EMOJI.sub(r'', str(text))"
   ]
  },
  {
   "cell_type": "code",
   "execution_count": 90,
   "metadata": {},
   "outputs": [
    {
     "name": "stderr",
     "output_type": "stream",
     "text": [
      "[nltk_data] Downloading package stopwords to\n",
      "[nltk_data]     C:\\Users\\GGB\\AppData\\Roaming\\nltk_data...\n",
      "[nltk_data]   Package stopwords is already up-to-date!\n"
     ]
    }
   ],
   "source": [
    "#autres librairies nlp (pre processing...)\n",
    "import nltk\n",
    "nltk.download('stopwords')\n",
    "from nltk.corpus import stopwords\n",
    "from pymystem3 import Mystem\n",
    "from string import punctuation\n",
    "from bs4 import BeautifulSoup\n",
    "import re\n",
    "#Preprocess function\n",
    "from sklearn.feature_extraction.text import CountVectorizer, TfidfVectorizer\n",
    "import string\n",
    "from nltk.corpus import stopwords as stop_words\n",
    "import warnings\n",
    "from tqdm.notebook import tqdm\n"
   ]
  },
  {
   "cell_type": "code",
   "execution_count": 91,
   "metadata": {},
   "outputs": [],
   "source": [
    "with open('stop_words_english.txt', 'r', encoding='utf-8') as f: stopwords_add = f.readlines()"
   ]
  },
  {
   "cell_type": "code",
   "execution_count": 92,
   "metadata": {},
   "outputs": [],
   "source": [
    "\n",
    "def preprocess(docs, language) :\n",
    "    # On importe les stop_words de NLTK dans la langue idoine\n",
    "    stop_words = stopwords.words(language)+stopwords_add+[\"label\", \"labelling\", \"voluntary\", \"scheme\", \"legislative\", \"instrument\", \"setting\", \"option\"]\n",
    "    stop_words = set(stop_words)\n",
    "    # On choisit la taille du vocabulaire\n",
    "    vocabulary_size=None\n",
    "    preprocessed_docs_tmp = docs\n",
    "    # On retire la casse\n",
    "    preprocessed_docs_tmp = [doc.lower() for doc in preprocessed_docs_tmp]\n",
    "    # On retire le html, les emojis, la ponctuation, stopwords\n",
    "    preprocessed_docs_tmp = [remove_html(doc) for doc in preprocessed_docs_tmp]\n",
    "    preprocessed_docs_tmp = [remove_emoji(doc) for doc in preprocessed_docs_tmp]\n",
    "    preprocessed_docs_tmp = [doc.translate(str.maketrans(string.punctuation, ' ' * len(string.punctuation))) for doc in preprocessed_docs_tmp]\n",
    "    preprocessed_docs_tmp = [' '.join([w for w in doc.split() if len(w) > 0 and w not in stop_words]) for doc in preprocessed_docs_tmp]\n",
    "    preprocessed_docs = preprocessed_docs_tmp\n",
    "        # TFIDF AVANT\n",
    "    vectorizer = TfidfVectorizer(ngram_range=(1,3), max_features=vocabulary_size, max_df=0.25)\n",
    "\n",
    "    vectorizer.fit_transform(preprocessed_docs_tmp)\n",
    "    matrix = vectorizer.fit_transform(preprocessed_docs_tmp)\n",
    "    dense = matrix.todense()\n",
    "    denselist = dense.tolist()\n",
    "    vocabulary1 = set(vectorizer.get_feature_names())\n",
    "\n",
    "    #     # WORDCLOUD AVANT LEMMA\n",
    "    # df_tocloud = pd.DataFrame(denselist, columns=vocabulary1)\n",
    "    # df_tocloud = df_tocloud.transpose().sum(axis=1)\n",
    "\n",
    "        # LEMMATISATION : OPTIONNEL\n",
    "    if language == \"russian\":\n",
    "        preprocessed_docs_tmp = [lemm_ru(doc) for doc in tqdm(preprocessed_docs_tmp)]\n",
    "    if language == \"english\":\n",
    "        preprocessed_docs_tmp = [lemm_en(doc) for doc in tqdm(preprocessed_docs_tmp)]\n",
    "        lemmatized_docs = preprocessed_docs_tmp\n",
    "\n",
    "            # TFIDF APRES\n",
    "    # Extraction des mots les plus importants via matrice terme-document\n",
    "    # vectorizer = CountVectorizer \n",
    "    vectorizer = TfidfVectorizer(ngram_range=(1,3), max_features=vocabulary_size, max_df=0.15)\n",
    "\n",
    "    vectorizer.fit_transform(preprocessed_docs_tmp)\n",
    "    matrix = vectorizer.fit_transform(preprocessed_docs_tmp)\n",
    "    dense = matrix.todense()\n",
    "    denselist = dense.tolist()\n",
    "    vocabulary2 = set(vectorizer.get_feature_names())\n",
    "    \n",
    "    # WORDCLOUD APRES LEMMA\n",
    "    df_tocloud = pd.DataFrame(denselist, columns=vocabulary2)\n",
    "    df_tocloud = df_tocloud.transpose().sum(axis=1)\n",
    "\n",
    "    \n",
    "    # preprocessed_docs_tmp = [' '.join([w for w in doc.split() if w in vocabulary])\n",
    "    #                                 for doc in preprocessed_docs_tmp]\n",
    "\n",
    "    # preprocessed_docs = preprocessed_docs_tmp\n",
    "    # # preprocessed_docs, unpreprocessed_docs = [], []\n",
    "    # unpreprocessed_docs = []\n",
    "    # Renvoie la liste des mêmes documents, non traités, pour BERT\n",
    "    # for i, doc in enumerate(preprocessed_docs_tmp):\n",
    "    #     if len(doc) > 0:\n",
    "    #         preprocessed_docs.append(doc)\n",
    "    #         unpreprocessed_docs.append(remove_html(docs[i]))\n",
    "    # pour les textes destinés à BERT on va quand même retirer les liens.\n",
    "    return preprocessed_docs, lemmatized_docs, list(vocabulary1), list(vocabulary2), df_tocloud"
   ]
  },
  {
   "cell_type": "code",
   "execution_count": null,
   "metadata": {},
   "outputs": [],
   "source": [
    "i=0\n",
    "for l in df.Fulltext :\n",
    "    i+=len(l)\n",
    "i"
   ]
  },
  {
   "cell_type": "code",
   "execution_count": null,
   "metadata": {},
   "outputs": [],
   "source": [
    "for l in df.About_labels :\n",
    "    print(l, \"\\n_____\\n\")"
   ]
  },
  {
   "cell_type": "markdown",
   "metadata": {},
   "source": [
    "## ANALYSES NLP/CORTEXT ETC"
   ]
  },
  {
   "cell_type": "code",
   "execution_count": 94,
   "metadata": {},
   "outputs": [],
   "source": [
    "####FOR CORTEXT#####\n",
    "def NA_to_empty_str(x) :\n",
    "    if pd.isna(x) :\n",
    "        return ''\n",
    "    else :\n",
    "        return x"
   ]
  },
  {
   "cell_type": "code",
   "execution_count": 95,
   "metadata": {},
   "outputs": [],
   "source": [
    "df.About_labels = df.About_labels.apply(lambda x : NA_to_empty_str(x))\n",
    "df.Fulltext = df.Fulltext.apply(lambda x : NA_to_empty_str(x))"
   ]
  },
  {
   "cell_type": "code",
   "execution_count": null,
   "metadata": {},
   "outputs": [
    {
     "ename": "NameError",
     "evalue": "name 'lemmas' is not defined",
     "output_type": "error",
     "traceback": [
      "\u001b[1;31m---------------------------------------------------------------------------\u001b[0m",
      "\u001b[1;31mNameError\u001b[0m                                 Traceback (most recent call last)",
      "\u001b[1;32m<ipython-input-35-73fd3a9f433b>\u001b[0m in \u001b[0;36m<module>\u001b[1;34m\u001b[0m\n\u001b[1;32m----> 1\u001b[1;33m \u001b[0mdf\u001b[0m\u001b[1;33m.\u001b[0m\u001b[0mLabel_lemmas\u001b[0m\u001b[1;33m=\u001b[0m\u001b[0mlemmas\u001b[0m\u001b[1;33m\u001b[0m\u001b[1;33m\u001b[0m\u001b[0m\n\u001b[0m",
      "\u001b[1;31mNameError\u001b[0m: name 'lemmas' is not defined"
     ]
    }
   ],
   "source": [
    "df.Label_lemmas=lemmas"
   ]
  },
  {
   "cell_type": "code",
   "execution_count": 96,
   "metadata": {},
   "outputs": [
    {
     "data": {
      "text/plain": [
       "671028"
      ]
     },
     "execution_count": 96,
     "metadata": {},
     "output_type": "execute_result"
    }
   ],
   "source": [
    "i=0\n",
    "for l in df.Fulltext :\n",
    "    i+=len(l.split())\n",
    "i\n",
    "    "
   ]
  },
  {
   "cell_type": "code",
   "execution_count": null,
   "metadata": {},
   "outputs": [
    {
     "data": {
      "text/plain": [
       "0      [ , , September 10, 2020 , , Consumer Technolo...\n",
       "1      [CDT welcomes the opportunity to provide input...\n",
       "2      [ , , June 2020 , , European Commission's Whit...\n",
       "3      [ , September 2020 , , EuroCommerce contributi...\n",
       "4      [Slovenská aliancia pre inovatívnu ekonomiku ,...\n",
       "                             ...                        \n",
       "149    [ , , Berlin, 3,  August 2020 , , Deutscher In...\n",
       "150    [ , , POSITION PAPER , , 15/07/20 , , AI: A Eu...\n",
       "151    [I would like to express my support for the 2n...\n",
       "152    [As we had great concerns that the first relea...\n",
       "153    [ , , Making Rules for AI , , The errors and f...\n",
       "Name: Fulltext, Length: 154, dtype: object"
      ]
     },
     "execution_count": 413,
     "metadata": {},
     "output_type": "execute_result"
    }
   ],
   "source": []
  },
  {
   "cell_type": "code",
   "execution_count": 97,
   "metadata": {},
   "outputs": [],
   "source": [
    "df[\"to_exp\"] = df.About_labels.str.split(r'[.]|\\n')\n",
    "df2=df.explode(\"to_exp\")"
   ]
  },
  {
   "cell_type": "code",
   "execution_count": 98,
   "metadata": {},
   "outputs": [],
   "source": [
    "df2[\"to_exp\"]=df2[\"to_exp\"].apply(lambda x : is_empty_list(x))"
   ]
  },
  {
   "cell_type": "code",
   "execution_count": 99,
   "metadata": {},
   "outputs": [],
   "source": [
    "df2=df2.dropna(axis=0, subset =[\"to_exp\"])\n",
    "df2 = df2.drop_duplicates( subset=[\"to_exp\"], keep='first')\n",
    "# to_csv(\"exploded.csv\")b"
   ]
  },
  {
   "cell_type": "code",
   "execution_count": 106,
   "metadata": {},
   "outputs": [],
   "source": [
    "df=pd.read_csv(\"exploded2.csv\")"
   ]
  },
  {
   "cell_type": "code",
   "execution_count": 117,
   "metadata": {},
   "outputs": [],
   "source": [
    "df[\"sentiment\"]=df[\"sentiment\"].astype(str).apply(lambda x: sentiment_analysis(x))"
   ]
  },
  {
   "cell_type": "code",
   "execution_count": 135,
   "metadata": {},
   "outputs": [],
   "source": [
    "df[\"sentiment\"], df[\"sent_score\"]=df[\"sentiment\"].apply(lambda x: x[\"label\"]),df[\"sentiment\"].apply(lambda x: x[\"score\"])"
   ]
  },
  {
   "cell_type": "code",
   "execution_count": 151,
   "metadata": {},
   "outputs": [],
   "source": [
    "df[\"neg_score\"]=pd.qcut(df[df.sentiment==\"NEGATIVE\"][\"sent_score\"], 3, labels=[\"1\",\"2\",\"3\"])\n",
    "df[\"pos_score\"]=pd.qcut(df[df.sentiment==\"POSITIVE\"][\"sent_score\"], 3, labels=[\"1\",\"2\",\"3\"])\n"
   ]
  },
  {
   "cell_type": "code",
   "execution_count": 153,
   "metadata": {},
   "outputs": [
    {
     "data": {
      "text/html": [
       "<div>\n",
       "<style scoped>\n",
       "    .dataframe tbody tr th:only-of-type {\n",
       "        vertical-align: middle;\n",
       "    }\n",
       "\n",
       "    .dataframe tbody tr th {\n",
       "        vertical-align: top;\n",
       "    }\n",
       "\n",
       "    .dataframe thead th {\n",
       "        text-align: right;\n",
       "    }\n",
       "</style>\n",
       "<table border=\"1\" class=\"dataframe\">\n",
       "  <thead>\n",
       "    <tr style=\"text-align: right;\">\n",
       "      <th></th>\n",
       "      <th>Unnamed: 0</th>\n",
       "      <th>Feedback reference</th>\n",
       "      <th>Submitted on</th>\n",
       "      <th>Submitted by</th>\n",
       "      <th>User type</th>\n",
       "      <th>Organisation</th>\n",
       "      <th>Organisation size</th>\n",
       "      <th>Transparency register number</th>\n",
       "      <th>Scope</th>\n",
       "      <th>Country of origin</th>\n",
       "      <th>...</th>\n",
       "      <th>Message</th>\n",
       "      <th>File</th>\n",
       "      <th>Fulltext</th>\n",
       "      <th>About_labels</th>\n",
       "      <th>IsLobby</th>\n",
       "      <th>to_exp</th>\n",
       "      <th>sentiment</th>\n",
       "      <th>sent_score</th>\n",
       "      <th>neg_score</th>\n",
       "      <th>pos_score</th>\n",
       "    </tr>\n",
       "  </thead>\n",
       "  <tbody>\n",
       "    <tr>\n",
       "      <th>0</th>\n",
       "      <td>2</td>\n",
       "      <td>F551053</td>\n",
       "      <td>10 September 2020</td>\n",
       "      <td>Paolo Grassia</td>\n",
       "      <td>Business association</td>\n",
       "      <td>ETNO - European Telecommunications Network Ope...</td>\n",
       "      <td>Micro (1 to 9 employees)</td>\n",
       "      <td>08957111909-85</td>\n",
       "      <td>NaN</td>\n",
       "      <td>Belgium</td>\n",
       "      <td>...</td>\n",
       "      <td>ETNO welcomes the Commission’s objective to fo...</td>\n",
       "      <td>https://ec.europa.eu/info/law/better-regulatio...</td>\n",
       "      <td>\\n\\nJune 2020 \\n\\nEuropean Commission's White...</td>\n",
       "      <td>Voluntary labelling \\nA voluntary labelling fr...</td>\n",
       "      <td>0</td>\n",
       "      <td>Voluntary labelling</td>\n",
       "      <td>NEGATIVE</td>\n",
       "      <td>0.983035</td>\n",
       "      <td>1</td>\n",
       "      <td>NaN</td>\n",
       "    </tr>\n",
       "    <tr>\n",
       "      <th>1</th>\n",
       "      <td>2</td>\n",
       "      <td>F551053</td>\n",
       "      <td>10 September 2020</td>\n",
       "      <td>Paolo Grassia</td>\n",
       "      <td>Business association</td>\n",
       "      <td>ETNO - European Telecommunications Network Ope...</td>\n",
       "      <td>Micro (1 to 9 employees)</td>\n",
       "      <td>08957111909-85</td>\n",
       "      <td>NaN</td>\n",
       "      <td>Belgium</td>\n",
       "      <td>...</td>\n",
       "      <td>ETNO welcomes the Commission’s objective to fo...</td>\n",
       "      <td>https://ec.europa.eu/info/law/better-regulatio...</td>\n",
       "      <td>\\n\\nJune 2020 \\n\\nEuropean Commission's White...</td>\n",
       "      <td>Voluntary labelling \\nA voluntary labelling fr...</td>\n",
       "      <td>0</td>\n",
       "      <td>A voluntary labelling framework aimed at susta...</td>\n",
       "      <td>POSITIVE</td>\n",
       "      <td>0.997495</td>\n",
       "      <td>NaN</td>\n",
       "      <td>2</td>\n",
       "    </tr>\n",
       "    <tr>\n",
       "      <th>2</th>\n",
       "      <td>2</td>\n",
       "      <td>F551053</td>\n",
       "      <td>10 September 2020</td>\n",
       "      <td>Paolo Grassia</td>\n",
       "      <td>Business association</td>\n",
       "      <td>ETNO - European Telecommunications Network Ope...</td>\n",
       "      <td>Micro (1 to 9 employees)</td>\n",
       "      <td>08957111909-85</td>\n",
       "      <td>NaN</td>\n",
       "      <td>Belgium</td>\n",
       "      <td>...</td>\n",
       "      <td>ETNO welcomes the Commission’s objective to fo...</td>\n",
       "      <td>https://ec.europa.eu/info/law/better-regulatio...</td>\n",
       "      <td>\\n\\nJune 2020 \\n\\nEuropean Commission's White...</td>\n",
       "      <td>Voluntary labelling \\nA voluntary labelling fr...</td>\n",
       "      <td>0</td>\n",
       "      <td>However, it is necessary to clearly define la...</td>\n",
       "      <td>POSITIVE</td>\n",
       "      <td>0.980068</td>\n",
       "      <td>NaN</td>\n",
       "      <td>1</td>\n",
       "    </tr>\n",
       "    <tr>\n",
       "      <th>3</th>\n",
       "      <td>2</td>\n",
       "      <td>F551053</td>\n",
       "      <td>10 September 2020</td>\n",
       "      <td>Paolo Grassia</td>\n",
       "      <td>Business association</td>\n",
       "      <td>ETNO - European Telecommunications Network Ope...</td>\n",
       "      <td>Micro (1 to 9 employees)</td>\n",
       "      <td>08957111909-85</td>\n",
       "      <td>NaN</td>\n",
       "      <td>Belgium</td>\n",
       "      <td>...</td>\n",
       "      <td>ETNO welcomes the Commission’s objective to fo...</td>\n",
       "      <td>https://ec.europa.eu/info/law/better-regulatio...</td>\n",
       "      <td>\\n\\nJune 2020 \\n\\nEuropean Commission's White...</td>\n",
       "      <td>Voluntary labelling \\nA voluntary labelling fr...</td>\n",
       "      <td>0</td>\n",
       "      <td>Criteria underpinning the labels could relate...</td>\n",
       "      <td>POSITIVE</td>\n",
       "      <td>0.990954</td>\n",
       "      <td>NaN</td>\n",
       "      <td>1</td>\n",
       "    </tr>\n",
       "    <tr>\n",
       "      <th>4</th>\n",
       "      <td>2</td>\n",
       "      <td>F551053</td>\n",
       "      <td>10 September 2020</td>\n",
       "      <td>Paolo Grassia</td>\n",
       "      <td>Business association</td>\n",
       "      <td>ETNO - European Telecommunications Network Ope...</td>\n",
       "      <td>Micro (1 to 9 employees)</td>\n",
       "      <td>08957111909-85</td>\n",
       "      <td>NaN</td>\n",
       "      <td>Belgium</td>\n",
       "      <td>...</td>\n",
       "      <td>ETNO welcomes the Commission’s objective to fo...</td>\n",
       "      <td>https://ec.europa.eu/info/law/better-regulatio...</td>\n",
       "      <td>\\n\\nJune 2020 \\n\\nEuropean Commission's White...</td>\n",
       "      <td>Voluntary labelling \\nA voluntary labelling fr...</td>\n",
       "      <td>0</td>\n",
       "      <td>g</td>\n",
       "      <td>NEGATIVE</td>\n",
       "      <td>0.707671</td>\n",
       "      <td>1</td>\n",
       "      <td>NaN</td>\n",
       "    </tr>\n",
       "    <tr>\n",
       "      <th>...</th>\n",
       "      <td>...</td>\n",
       "      <td>...</td>\n",
       "      <td>...</td>\n",
       "      <td>...</td>\n",
       "      <td>...</td>\n",
       "      <td>...</td>\n",
       "      <td>...</td>\n",
       "      <td>...</td>\n",
       "      <td>...</td>\n",
       "      <td>...</td>\n",
       "      <td>...</td>\n",
       "      <td>...</td>\n",
       "      <td>...</td>\n",
       "      <td>...</td>\n",
       "      <td>...</td>\n",
       "      <td>...</td>\n",
       "      <td>...</td>\n",
       "      <td>...</td>\n",
       "      <td>...</td>\n",
       "      <td>...</td>\n",
       "      <td>...</td>\n",
       "    </tr>\n",
       "    <tr>\n",
       "      <th>475</th>\n",
       "      <td>130</td>\n",
       "      <td>F540645</td>\n",
       "      <td>03 August 2020</td>\n",
       "      <td>patrick GRANT</td>\n",
       "      <td>Business association</td>\n",
       "      <td>BusinessEurope</td>\n",
       "      <td>Small (10 to 49 employees)</td>\n",
       "      <td>3978240953-79</td>\n",
       "      <td>NaN</td>\n",
       "      <td>Belgium</td>\n",
       "      <td>...</td>\n",
       "      <td>BusinessEurope welcomes the positive tone of t...</td>\n",
       "      <td>https://ec.europa.eu/info/law/better-regulatio...</td>\n",
       "      <td>\\n\\nPOSITION PAPER \\n\\n15/07/20 \\n\\nAI: A Eur...</td>\n",
       "      <td>• A voluntary labelling system for AI not cove...</td>\n",
       "      <td>0</td>\n",
       "      <td>not applying separate labels for ethics, priv...</td>\n",
       "      <td>NEGATIVE</td>\n",
       "      <td>0.985620</td>\n",
       "      <td>1</td>\n",
       "      <td>NaN</td>\n",
       "    </tr>\n",
       "    <tr>\n",
       "      <th>476</th>\n",
       "      <td>130</td>\n",
       "      <td>F540645</td>\n",
       "      <td>03 August 2020</td>\n",
       "      <td>patrick GRANT</td>\n",
       "      <td>Business association</td>\n",
       "      <td>BusinessEurope</td>\n",
       "      <td>Small (10 to 49 employees)</td>\n",
       "      <td>3978240953-79</td>\n",
       "      <td>NaN</td>\n",
       "      <td>Belgium</td>\n",
       "      <td>...</td>\n",
       "      <td>BusinessEurope welcomes the positive tone of t...</td>\n",
       "      <td>https://ec.europa.eu/info/law/better-regulatio...</td>\n",
       "      <td>\\n\\nPOSITION PAPER \\n\\n15/07/20 \\n\\nAI: A Eur...</td>\n",
       "      <td>• A voluntary labelling system for AI not cove...</td>\n",
       "      <td>0</td>\n",
       "      <td>Given the pace of change, any scheme would ha...</td>\n",
       "      <td>POSITIVE</td>\n",
       "      <td>0.996911</td>\n",
       "      <td>NaN</td>\n",
       "      <td>2</td>\n",
       "    </tr>\n",
       "    <tr>\n",
       "      <th>477</th>\n",
       "      <td>151</td>\n",
       "      <td>F539970</td>\n",
       "      <td>30 July 2020</td>\n",
       "      <td>NaN</td>\n",
       "      <td>NaN</td>\n",
       "      <td>NaN</td>\n",
       "      <td>NaN</td>\n",
       "      <td>NaN</td>\n",
       "      <td>NaN</td>\n",
       "      <td>NaN</td>\n",
       "      <td>...</td>\n",
       "      <td>I would like to express my support for the 2nd...</td>\n",
       "      <td>NaN</td>\n",
       "      <td>I would like to express my support for the 2nd...</td>\n",
       "      <td>I would like to express my support for the 2nd...</td>\n",
       "      <td>1</td>\n",
       "      <td>I would like to express my support for the 2nd...</td>\n",
       "      <td>POSITIVE</td>\n",
       "      <td>0.998869</td>\n",
       "      <td>NaN</td>\n",
       "      <td>3</td>\n",
       "    </tr>\n",
       "    <tr>\n",
       "      <th>478</th>\n",
       "      <td>151</td>\n",
       "      <td>F539970</td>\n",
       "      <td>30 July 2020</td>\n",
       "      <td>NaN</td>\n",
       "      <td>NaN</td>\n",
       "      <td>NaN</td>\n",
       "      <td>NaN</td>\n",
       "      <td>NaN</td>\n",
       "      <td>NaN</td>\n",
       "      <td>NaN</td>\n",
       "      <td>...</td>\n",
       "      <td>I would like to express my support for the 2nd...</td>\n",
       "      <td>NaN</td>\n",
       "      <td>I would like to express my support for the 2nd...</td>\n",
       "      <td>I would like to express my support for the 2nd...</td>\n",
       "      <td>1</td>\n",
       "      <td>Voluntary labelling process outlined in the o...</td>\n",
       "      <td>NEGATIVE</td>\n",
       "      <td>0.993946</td>\n",
       "      <td>2</td>\n",
       "      <td>NaN</td>\n",
       "    </tr>\n",
       "    <tr>\n",
       "      <th>479</th>\n",
       "      <td>151</td>\n",
       "      <td>F539970</td>\n",
       "      <td>30 July 2020</td>\n",
       "      <td>NaN</td>\n",
       "      <td>NaN</td>\n",
       "      <td>NaN</td>\n",
       "      <td>NaN</td>\n",
       "      <td>NaN</td>\n",
       "      <td>NaN</td>\n",
       "      <td>NaN</td>\n",
       "      <td>...</td>\n",
       "      <td>I would like to express my support for the 2nd...</td>\n",
       "      <td>NaN</td>\n",
       "      <td>I would like to express my support for the 2nd...</td>\n",
       "      <td>I would like to express my support for the 2nd...</td>\n",
       "      <td>1</td>\n",
       "      <td>On the other hand complete regulation of AI i...</td>\n",
       "      <td>NEGATIVE</td>\n",
       "      <td>0.994041</td>\n",
       "      <td>2</td>\n",
       "      <td>NaN</td>\n",
       "    </tr>\n",
       "  </tbody>\n",
       "</table>\n",
       "<p>480 rows × 21 columns</p>\n",
       "</div>"
      ],
      "text/plain": [
       "     Unnamed: 0 Feedback reference       Submitted on   Submitted by  \\\n",
       "0             2            F551053  10 September 2020  Paolo Grassia   \n",
       "1             2            F551053  10 September 2020  Paolo Grassia   \n",
       "2             2            F551053  10 September 2020  Paolo Grassia   \n",
       "3             2            F551053  10 September 2020  Paolo Grassia   \n",
       "4             2            F551053  10 September 2020  Paolo Grassia   \n",
       "..          ...                ...                ...            ...   \n",
       "475         130            F540645     03 August 2020  patrick GRANT   \n",
       "476         130            F540645     03 August 2020  patrick GRANT   \n",
       "477         151            F539970       30 July 2020            NaN   \n",
       "478         151            F539970       30 July 2020            NaN   \n",
       "479         151            F539970       30 July 2020            NaN   \n",
       "\n",
       "                User type                                       Organisation  \\\n",
       "0    Business association  ETNO - European Telecommunications Network Ope...   \n",
       "1    Business association  ETNO - European Telecommunications Network Ope...   \n",
       "2    Business association  ETNO - European Telecommunications Network Ope...   \n",
       "3    Business association  ETNO - European Telecommunications Network Ope...   \n",
       "4    Business association  ETNO - European Telecommunications Network Ope...   \n",
       "..                    ...                                                ...   \n",
       "475  Business association                                     BusinessEurope   \n",
       "476  Business association                                     BusinessEurope   \n",
       "477                   NaN                                                NaN   \n",
       "478                   NaN                                                NaN   \n",
       "479                   NaN                                                NaN   \n",
       "\n",
       "              Organisation size Transparency register number  Scope  \\\n",
       "0      Micro (1 to 9 employees)               08957111909-85    NaN   \n",
       "1      Micro (1 to 9 employees)               08957111909-85    NaN   \n",
       "2      Micro (1 to 9 employees)               08957111909-85    NaN   \n",
       "3      Micro (1 to 9 employees)               08957111909-85    NaN   \n",
       "4      Micro (1 to 9 employees)               08957111909-85    NaN   \n",
       "..                          ...                          ...    ...   \n",
       "475  Small (10 to 49 employees)                3978240953-79    NaN   \n",
       "476  Small (10 to 49 employees)                3978240953-79    NaN   \n",
       "477                         NaN                          NaN    NaN   \n",
       "478                         NaN                          NaN    NaN   \n",
       "479                         NaN                          NaN    NaN   \n",
       "\n",
       "    Country of origin  ...                                            Message  \\\n",
       "0             Belgium  ...  ETNO welcomes the Commission’s objective to fo...   \n",
       "1             Belgium  ...  ETNO welcomes the Commission’s objective to fo...   \n",
       "2             Belgium  ...  ETNO welcomes the Commission’s objective to fo...   \n",
       "3             Belgium  ...  ETNO welcomes the Commission’s objective to fo...   \n",
       "4             Belgium  ...  ETNO welcomes the Commission’s objective to fo...   \n",
       "..                ...  ...                                                ...   \n",
       "475           Belgium  ...  BusinessEurope welcomes the positive tone of t...   \n",
       "476           Belgium  ...  BusinessEurope welcomes the positive tone of t...   \n",
       "477               NaN  ...  I would like to express my support for the 2nd...   \n",
       "478               NaN  ...  I would like to express my support for the 2nd...   \n",
       "479               NaN  ...  I would like to express my support for the 2nd...   \n",
       "\n",
       "                                                  File  \\\n",
       "0    https://ec.europa.eu/info/law/better-regulatio...   \n",
       "1    https://ec.europa.eu/info/law/better-regulatio...   \n",
       "2    https://ec.europa.eu/info/law/better-regulatio...   \n",
       "3    https://ec.europa.eu/info/law/better-regulatio...   \n",
       "4    https://ec.europa.eu/info/law/better-regulatio...   \n",
       "..                                                 ...   \n",
       "475  https://ec.europa.eu/info/law/better-regulatio...   \n",
       "476  https://ec.europa.eu/info/law/better-regulatio...   \n",
       "477                                                NaN   \n",
       "478                                                NaN   \n",
       "479                                                NaN   \n",
       "\n",
       "                                              Fulltext  \\\n",
       "0     \\n\\nJune 2020 \\n\\nEuropean Commission's White...   \n",
       "1     \\n\\nJune 2020 \\n\\nEuropean Commission's White...   \n",
       "2     \\n\\nJune 2020 \\n\\nEuropean Commission's White...   \n",
       "3     \\n\\nJune 2020 \\n\\nEuropean Commission's White...   \n",
       "4     \\n\\nJune 2020 \\n\\nEuropean Commission's White...   \n",
       "..                                                 ...   \n",
       "475   \\n\\nPOSITION PAPER \\n\\n15/07/20 \\n\\nAI: A Eur...   \n",
       "476   \\n\\nPOSITION PAPER \\n\\n15/07/20 \\n\\nAI: A Eur...   \n",
       "477  I would like to express my support for the 2nd...   \n",
       "478  I would like to express my support for the 2nd...   \n",
       "479  I would like to express my support for the 2nd...   \n",
       "\n",
       "                                          About_labels IsLobby  \\\n",
       "0    Voluntary labelling \\nA voluntary labelling fr...       0   \n",
       "1    Voluntary labelling \\nA voluntary labelling fr...       0   \n",
       "2    Voluntary labelling \\nA voluntary labelling fr...       0   \n",
       "3    Voluntary labelling \\nA voluntary labelling fr...       0   \n",
       "4    Voluntary labelling \\nA voluntary labelling fr...       0   \n",
       "..                                                 ...     ...   \n",
       "475  • A voluntary labelling system for AI not cove...       0   \n",
       "476  • A voluntary labelling system for AI not cove...       0   \n",
       "477  I would like to express my support for the 2nd...       1   \n",
       "478  I would like to express my support for the 2nd...       1   \n",
       "479  I would like to express my support for the 2nd...       1   \n",
       "\n",
       "                                                to_exp sentiment sent_score  \\\n",
       "0                                 Voluntary labelling   NEGATIVE   0.983035   \n",
       "1    A voluntary labelling framework aimed at susta...  POSITIVE   0.997495   \n",
       "2     However, it is necessary to clearly define la...  POSITIVE   0.980068   \n",
       "3     Criteria underpinning the labels could relate...  POSITIVE   0.990954   \n",
       "4                                                    g  NEGATIVE   0.707671   \n",
       "..                                                 ...       ...        ...   \n",
       "475   not applying separate labels for ethics, priv...  NEGATIVE   0.985620   \n",
       "476   Given the pace of change, any scheme would ha...  POSITIVE   0.996911   \n",
       "477  I would like to express my support for the 2nd...  POSITIVE   0.998869   \n",
       "478   Voluntary labelling process outlined in the o...  NEGATIVE   0.993946   \n",
       "479   On the other hand complete regulation of AI i...  NEGATIVE   0.994041   \n",
       "\n",
       "     neg_score pos_score  \n",
       "0            1       NaN  \n",
       "1          NaN         2  \n",
       "2          NaN         1  \n",
       "3          NaN         1  \n",
       "4            1       NaN  \n",
       "..         ...       ...  \n",
       "475          1       NaN  \n",
       "476        NaN         2  \n",
       "477        NaN         3  \n",
       "478          2       NaN  \n",
       "479          2       NaN  \n",
       "\n",
       "[480 rows x 21 columns]"
      ]
     },
     "execution_count": 153,
     "metadata": {},
     "output_type": "execute_result"
    }
   ],
   "source": [
    "df"
   ]
  },
  {
   "cell_type": "code",
   "execution_count": 152,
   "metadata": {},
   "outputs": [],
   "source": [
    "df.to_csv(\"allsentences.csv\")"
   ]
  },
  {
   "cell_type": "code",
   "execution_count": 154,
   "metadata": {},
   "outputs": [
    {
     "data": {
      "text/html": [
       "<div>\n",
       "<style scoped>\n",
       "    .dataframe tbody tr th:only-of-type {\n",
       "        vertical-align: middle;\n",
       "    }\n",
       "\n",
       "    .dataframe tbody tr th {\n",
       "        vertical-align: top;\n",
       "    }\n",
       "\n",
       "    .dataframe thead th {\n",
       "        text-align: right;\n",
       "    }\n",
       "</style>\n",
       "<table border=\"1\" class=\"dataframe\">\n",
       "  <thead>\n",
       "    <tr style=\"text-align: right;\">\n",
       "      <th></th>\n",
       "      <th>Unnamed: 0</th>\n",
       "      <th>Feedback reference</th>\n",
       "      <th>Submitted on</th>\n",
       "      <th>Submitted by</th>\n",
       "      <th>User type</th>\n",
       "      <th>Organisation</th>\n",
       "      <th>Organisation size</th>\n",
       "      <th>Transparency register number</th>\n",
       "      <th>Scope</th>\n",
       "      <th>Country of origin</th>\n",
       "      <th>...</th>\n",
       "      <th>Message</th>\n",
       "      <th>File</th>\n",
       "      <th>Fulltext</th>\n",
       "      <th>About_labels</th>\n",
       "      <th>IsLobby</th>\n",
       "      <th>to_exp</th>\n",
       "      <th>sentiment</th>\n",
       "      <th>sent_score</th>\n",
       "      <th>neg_score</th>\n",
       "      <th>pos_score</th>\n",
       "    </tr>\n",
       "  </thead>\n",
       "  <tbody>\n",
       "    <tr>\n",
       "      <th>0</th>\n",
       "      <td>2</td>\n",
       "      <td>F551053</td>\n",
       "      <td>10 September 2020</td>\n",
       "      <td>Paolo Grassia</td>\n",
       "      <td>Business association</td>\n",
       "      <td>ETNO - European Telecommunications Network Ope...</td>\n",
       "      <td>Micro (1 to 9 employees)</td>\n",
       "      <td>08957111909-85</td>\n",
       "      <td>NaN</td>\n",
       "      <td>Belgium</td>\n",
       "      <td>...</td>\n",
       "      <td>ETNO welcomes the Commission’s objective to fo...</td>\n",
       "      <td>https://ec.europa.eu/info/law/better-regulatio...</td>\n",
       "      <td>\\n\\nJune 2020 \\n\\nEuropean Commission's White...</td>\n",
       "      <td>Voluntary labelling \\nA voluntary labelling fr...</td>\n",
       "      <td>0</td>\n",
       "      <td>Voluntary labelling</td>\n",
       "      <td>NEGATIVE</td>\n",
       "      <td>0.983035</td>\n",
       "      <td>1</td>\n",
       "      <td>NaN</td>\n",
       "    </tr>\n",
       "    <tr>\n",
       "      <th>1</th>\n",
       "      <td>2</td>\n",
       "      <td>F551053</td>\n",
       "      <td>10 September 2020</td>\n",
       "      <td>Paolo Grassia</td>\n",
       "      <td>Business association</td>\n",
       "      <td>ETNO - European Telecommunications Network Ope...</td>\n",
       "      <td>Micro (1 to 9 employees)</td>\n",
       "      <td>08957111909-85</td>\n",
       "      <td>NaN</td>\n",
       "      <td>Belgium</td>\n",
       "      <td>...</td>\n",
       "      <td>ETNO welcomes the Commission’s objective to fo...</td>\n",
       "      <td>https://ec.europa.eu/info/law/better-regulatio...</td>\n",
       "      <td>\\n\\nJune 2020 \\n\\nEuropean Commission's White...</td>\n",
       "      <td>Voluntary labelling \\nA voluntary labelling fr...</td>\n",
       "      <td>0</td>\n",
       "      <td>A voluntary labelling framework aimed at susta...</td>\n",
       "      <td>POSITIVE</td>\n",
       "      <td>0.997495</td>\n",
       "      <td>NaN</td>\n",
       "      <td>2</td>\n",
       "    </tr>\n",
       "    <tr>\n",
       "      <th>2</th>\n",
       "      <td>2</td>\n",
       "      <td>F551053</td>\n",
       "      <td>10 September 2020</td>\n",
       "      <td>Paolo Grassia</td>\n",
       "      <td>Business association</td>\n",
       "      <td>ETNO - European Telecommunications Network Ope...</td>\n",
       "      <td>Micro (1 to 9 employees)</td>\n",
       "      <td>08957111909-85</td>\n",
       "      <td>NaN</td>\n",
       "      <td>Belgium</td>\n",
       "      <td>...</td>\n",
       "      <td>ETNO welcomes the Commission’s objective to fo...</td>\n",
       "      <td>https://ec.europa.eu/info/law/better-regulatio...</td>\n",
       "      <td>\\n\\nJune 2020 \\n\\nEuropean Commission's White...</td>\n",
       "      <td>Voluntary labelling \\nA voluntary labelling fr...</td>\n",
       "      <td>0</td>\n",
       "      <td>However, it is necessary to clearly define la...</td>\n",
       "      <td>POSITIVE</td>\n",
       "      <td>0.980068</td>\n",
       "      <td>NaN</td>\n",
       "      <td>1</td>\n",
       "    </tr>\n",
       "    <tr>\n",
       "      <th>3</th>\n",
       "      <td>2</td>\n",
       "      <td>F551053</td>\n",
       "      <td>10 September 2020</td>\n",
       "      <td>Paolo Grassia</td>\n",
       "      <td>Business association</td>\n",
       "      <td>ETNO - European Telecommunications Network Ope...</td>\n",
       "      <td>Micro (1 to 9 employees)</td>\n",
       "      <td>08957111909-85</td>\n",
       "      <td>NaN</td>\n",
       "      <td>Belgium</td>\n",
       "      <td>...</td>\n",
       "      <td>ETNO welcomes the Commission’s objective to fo...</td>\n",
       "      <td>https://ec.europa.eu/info/law/better-regulatio...</td>\n",
       "      <td>\\n\\nJune 2020 \\n\\nEuropean Commission's White...</td>\n",
       "      <td>Voluntary labelling \\nA voluntary labelling fr...</td>\n",
       "      <td>0</td>\n",
       "      <td>Criteria underpinning the labels could relate...</td>\n",
       "      <td>POSITIVE</td>\n",
       "      <td>0.990954</td>\n",
       "      <td>NaN</td>\n",
       "      <td>1</td>\n",
       "    </tr>\n",
       "    <tr>\n",
       "      <th>4</th>\n",
       "      <td>2</td>\n",
       "      <td>F551053</td>\n",
       "      <td>10 September 2020</td>\n",
       "      <td>Paolo Grassia</td>\n",
       "      <td>Business association</td>\n",
       "      <td>ETNO - European Telecommunications Network Ope...</td>\n",
       "      <td>Micro (1 to 9 employees)</td>\n",
       "      <td>08957111909-85</td>\n",
       "      <td>NaN</td>\n",
       "      <td>Belgium</td>\n",
       "      <td>...</td>\n",
       "      <td>ETNO welcomes the Commission’s objective to fo...</td>\n",
       "      <td>https://ec.europa.eu/info/law/better-regulatio...</td>\n",
       "      <td>\\n\\nJune 2020 \\n\\nEuropean Commission's White...</td>\n",
       "      <td>Voluntary labelling \\nA voluntary labelling fr...</td>\n",
       "      <td>0</td>\n",
       "      <td>g</td>\n",
       "      <td>NEGATIVE</td>\n",
       "      <td>0.707671</td>\n",
       "      <td>1</td>\n",
       "      <td>NaN</td>\n",
       "    </tr>\n",
       "    <tr>\n",
       "      <th>...</th>\n",
       "      <td>...</td>\n",
       "      <td>...</td>\n",
       "      <td>...</td>\n",
       "      <td>...</td>\n",
       "      <td>...</td>\n",
       "      <td>...</td>\n",
       "      <td>...</td>\n",
       "      <td>...</td>\n",
       "      <td>...</td>\n",
       "      <td>...</td>\n",
       "      <td>...</td>\n",
       "      <td>...</td>\n",
       "      <td>...</td>\n",
       "      <td>...</td>\n",
       "      <td>...</td>\n",
       "      <td>...</td>\n",
       "      <td>...</td>\n",
       "      <td>...</td>\n",
       "      <td>...</td>\n",
       "      <td>...</td>\n",
       "      <td>...</td>\n",
       "    </tr>\n",
       "    <tr>\n",
       "      <th>475</th>\n",
       "      <td>130</td>\n",
       "      <td>F540645</td>\n",
       "      <td>03 August 2020</td>\n",
       "      <td>patrick GRANT</td>\n",
       "      <td>Business association</td>\n",
       "      <td>BusinessEurope</td>\n",
       "      <td>Small (10 to 49 employees)</td>\n",
       "      <td>3978240953-79</td>\n",
       "      <td>NaN</td>\n",
       "      <td>Belgium</td>\n",
       "      <td>...</td>\n",
       "      <td>BusinessEurope welcomes the positive tone of t...</td>\n",
       "      <td>https://ec.europa.eu/info/law/better-regulatio...</td>\n",
       "      <td>\\n\\nPOSITION PAPER \\n\\n15/07/20 \\n\\nAI: A Eur...</td>\n",
       "      <td>• A voluntary labelling system for AI not cove...</td>\n",
       "      <td>0</td>\n",
       "      <td>not applying separate labels for ethics, priv...</td>\n",
       "      <td>NEGATIVE</td>\n",
       "      <td>0.985620</td>\n",
       "      <td>1</td>\n",
       "      <td>NaN</td>\n",
       "    </tr>\n",
       "    <tr>\n",
       "      <th>476</th>\n",
       "      <td>130</td>\n",
       "      <td>F540645</td>\n",
       "      <td>03 August 2020</td>\n",
       "      <td>patrick GRANT</td>\n",
       "      <td>Business association</td>\n",
       "      <td>BusinessEurope</td>\n",
       "      <td>Small (10 to 49 employees)</td>\n",
       "      <td>3978240953-79</td>\n",
       "      <td>NaN</td>\n",
       "      <td>Belgium</td>\n",
       "      <td>...</td>\n",
       "      <td>BusinessEurope welcomes the positive tone of t...</td>\n",
       "      <td>https://ec.europa.eu/info/law/better-regulatio...</td>\n",
       "      <td>\\n\\nPOSITION PAPER \\n\\n15/07/20 \\n\\nAI: A Eur...</td>\n",
       "      <td>• A voluntary labelling system for AI not cove...</td>\n",
       "      <td>0</td>\n",
       "      <td>Given the pace of change, any scheme would ha...</td>\n",
       "      <td>POSITIVE</td>\n",
       "      <td>0.996911</td>\n",
       "      <td>NaN</td>\n",
       "      <td>2</td>\n",
       "    </tr>\n",
       "    <tr>\n",
       "      <th>477</th>\n",
       "      <td>151</td>\n",
       "      <td>F539970</td>\n",
       "      <td>30 July 2020</td>\n",
       "      <td>NaN</td>\n",
       "      <td>NaN</td>\n",
       "      <td>NaN</td>\n",
       "      <td>NaN</td>\n",
       "      <td>NaN</td>\n",
       "      <td>NaN</td>\n",
       "      <td>NaN</td>\n",
       "      <td>...</td>\n",
       "      <td>I would like to express my support for the 2nd...</td>\n",
       "      <td>NaN</td>\n",
       "      <td>I would like to express my support for the 2nd...</td>\n",
       "      <td>I would like to express my support for the 2nd...</td>\n",
       "      <td>1</td>\n",
       "      <td>I would like to express my support for the 2nd...</td>\n",
       "      <td>POSITIVE</td>\n",
       "      <td>0.998869</td>\n",
       "      <td>NaN</td>\n",
       "      <td>3</td>\n",
       "    </tr>\n",
       "    <tr>\n",
       "      <th>478</th>\n",
       "      <td>151</td>\n",
       "      <td>F539970</td>\n",
       "      <td>30 July 2020</td>\n",
       "      <td>NaN</td>\n",
       "      <td>NaN</td>\n",
       "      <td>NaN</td>\n",
       "      <td>NaN</td>\n",
       "      <td>NaN</td>\n",
       "      <td>NaN</td>\n",
       "      <td>NaN</td>\n",
       "      <td>...</td>\n",
       "      <td>I would like to express my support for the 2nd...</td>\n",
       "      <td>NaN</td>\n",
       "      <td>I would like to express my support for the 2nd...</td>\n",
       "      <td>I would like to express my support for the 2nd...</td>\n",
       "      <td>1</td>\n",
       "      <td>Voluntary labelling process outlined in the o...</td>\n",
       "      <td>NEGATIVE</td>\n",
       "      <td>0.993946</td>\n",
       "      <td>2</td>\n",
       "      <td>NaN</td>\n",
       "    </tr>\n",
       "    <tr>\n",
       "      <th>479</th>\n",
       "      <td>151</td>\n",
       "      <td>F539970</td>\n",
       "      <td>30 July 2020</td>\n",
       "      <td>NaN</td>\n",
       "      <td>NaN</td>\n",
       "      <td>NaN</td>\n",
       "      <td>NaN</td>\n",
       "      <td>NaN</td>\n",
       "      <td>NaN</td>\n",
       "      <td>NaN</td>\n",
       "      <td>...</td>\n",
       "      <td>I would like to express my support for the 2nd...</td>\n",
       "      <td>NaN</td>\n",
       "      <td>I would like to express my support for the 2nd...</td>\n",
       "      <td>I would like to express my support for the 2nd...</td>\n",
       "      <td>1</td>\n",
       "      <td>On the other hand complete regulation of AI i...</td>\n",
       "      <td>NEGATIVE</td>\n",
       "      <td>0.994041</td>\n",
       "      <td>2</td>\n",
       "      <td>NaN</td>\n",
       "    </tr>\n",
       "  </tbody>\n",
       "</table>\n",
       "<p>480 rows × 21 columns</p>\n",
       "</div>"
      ],
      "text/plain": [
       "     Unnamed: 0 Feedback reference       Submitted on   Submitted by  \\\n",
       "0             2            F551053  10 September 2020  Paolo Grassia   \n",
       "1             2            F551053  10 September 2020  Paolo Grassia   \n",
       "2             2            F551053  10 September 2020  Paolo Grassia   \n",
       "3             2            F551053  10 September 2020  Paolo Grassia   \n",
       "4             2            F551053  10 September 2020  Paolo Grassia   \n",
       "..          ...                ...                ...            ...   \n",
       "475         130            F540645     03 August 2020  patrick GRANT   \n",
       "476         130            F540645     03 August 2020  patrick GRANT   \n",
       "477         151            F539970       30 July 2020            NaN   \n",
       "478         151            F539970       30 July 2020            NaN   \n",
       "479         151            F539970       30 July 2020            NaN   \n",
       "\n",
       "                User type                                       Organisation  \\\n",
       "0    Business association  ETNO - European Telecommunications Network Ope...   \n",
       "1    Business association  ETNO - European Telecommunications Network Ope...   \n",
       "2    Business association  ETNO - European Telecommunications Network Ope...   \n",
       "3    Business association  ETNO - European Telecommunications Network Ope...   \n",
       "4    Business association  ETNO - European Telecommunications Network Ope...   \n",
       "..                    ...                                                ...   \n",
       "475  Business association                                     BusinessEurope   \n",
       "476  Business association                                     BusinessEurope   \n",
       "477                   NaN                                                NaN   \n",
       "478                   NaN                                                NaN   \n",
       "479                   NaN                                                NaN   \n",
       "\n",
       "              Organisation size Transparency register number  Scope  \\\n",
       "0      Micro (1 to 9 employees)               08957111909-85    NaN   \n",
       "1      Micro (1 to 9 employees)               08957111909-85    NaN   \n",
       "2      Micro (1 to 9 employees)               08957111909-85    NaN   \n",
       "3      Micro (1 to 9 employees)               08957111909-85    NaN   \n",
       "4      Micro (1 to 9 employees)               08957111909-85    NaN   \n",
       "..                          ...                          ...    ...   \n",
       "475  Small (10 to 49 employees)                3978240953-79    NaN   \n",
       "476  Small (10 to 49 employees)                3978240953-79    NaN   \n",
       "477                         NaN                          NaN    NaN   \n",
       "478                         NaN                          NaN    NaN   \n",
       "479                         NaN                          NaN    NaN   \n",
       "\n",
       "    Country of origin  ...                                            Message  \\\n",
       "0             Belgium  ...  ETNO welcomes the Commission’s objective to fo...   \n",
       "1             Belgium  ...  ETNO welcomes the Commission’s objective to fo...   \n",
       "2             Belgium  ...  ETNO welcomes the Commission’s objective to fo...   \n",
       "3             Belgium  ...  ETNO welcomes the Commission’s objective to fo...   \n",
       "4             Belgium  ...  ETNO welcomes the Commission’s objective to fo...   \n",
       "..                ...  ...                                                ...   \n",
       "475           Belgium  ...  BusinessEurope welcomes the positive tone of t...   \n",
       "476           Belgium  ...  BusinessEurope welcomes the positive tone of t...   \n",
       "477               NaN  ...  I would like to express my support for the 2nd...   \n",
       "478               NaN  ...  I would like to express my support for the 2nd...   \n",
       "479               NaN  ...  I would like to express my support for the 2nd...   \n",
       "\n",
       "                                                  File  \\\n",
       "0    https://ec.europa.eu/info/law/better-regulatio...   \n",
       "1    https://ec.europa.eu/info/law/better-regulatio...   \n",
       "2    https://ec.europa.eu/info/law/better-regulatio...   \n",
       "3    https://ec.europa.eu/info/law/better-regulatio...   \n",
       "4    https://ec.europa.eu/info/law/better-regulatio...   \n",
       "..                                                 ...   \n",
       "475  https://ec.europa.eu/info/law/better-regulatio...   \n",
       "476  https://ec.europa.eu/info/law/better-regulatio...   \n",
       "477                                                NaN   \n",
       "478                                                NaN   \n",
       "479                                                NaN   \n",
       "\n",
       "                                              Fulltext  \\\n",
       "0     \\n\\nJune 2020 \\n\\nEuropean Commission's White...   \n",
       "1     \\n\\nJune 2020 \\n\\nEuropean Commission's White...   \n",
       "2     \\n\\nJune 2020 \\n\\nEuropean Commission's White...   \n",
       "3     \\n\\nJune 2020 \\n\\nEuropean Commission's White...   \n",
       "4     \\n\\nJune 2020 \\n\\nEuropean Commission's White...   \n",
       "..                                                 ...   \n",
       "475   \\n\\nPOSITION PAPER \\n\\n15/07/20 \\n\\nAI: A Eur...   \n",
       "476   \\n\\nPOSITION PAPER \\n\\n15/07/20 \\n\\nAI: A Eur...   \n",
       "477  I would like to express my support for the 2nd...   \n",
       "478  I would like to express my support for the 2nd...   \n",
       "479  I would like to express my support for the 2nd...   \n",
       "\n",
       "                                          About_labels IsLobby  \\\n",
       "0    Voluntary labelling \\nA voluntary labelling fr...       0   \n",
       "1    Voluntary labelling \\nA voluntary labelling fr...       0   \n",
       "2    Voluntary labelling \\nA voluntary labelling fr...       0   \n",
       "3    Voluntary labelling \\nA voluntary labelling fr...       0   \n",
       "4    Voluntary labelling \\nA voluntary labelling fr...       0   \n",
       "..                                                 ...     ...   \n",
       "475  • A voluntary labelling system for AI not cove...       0   \n",
       "476  • A voluntary labelling system for AI not cove...       0   \n",
       "477  I would like to express my support for the 2nd...       1   \n",
       "478  I would like to express my support for the 2nd...       1   \n",
       "479  I would like to express my support for the 2nd...       1   \n",
       "\n",
       "                                                to_exp sentiment sent_score  \\\n",
       "0                                 Voluntary labelling   NEGATIVE   0.983035   \n",
       "1    A voluntary labelling framework aimed at susta...  POSITIVE   0.997495   \n",
       "2     However, it is necessary to clearly define la...  POSITIVE   0.980068   \n",
       "3     Criteria underpinning the labels could relate...  POSITIVE   0.990954   \n",
       "4                                                    g  NEGATIVE   0.707671   \n",
       "..                                                 ...       ...        ...   \n",
       "475   not applying separate labels for ethics, priv...  NEGATIVE   0.985620   \n",
       "476   Given the pace of change, any scheme would ha...  POSITIVE   0.996911   \n",
       "477  I would like to express my support for the 2nd...  POSITIVE   0.998869   \n",
       "478   Voluntary labelling process outlined in the o...  NEGATIVE   0.993946   \n",
       "479   On the other hand complete regulation of AI i...  NEGATIVE   0.994041   \n",
       "\n",
       "     neg_score pos_score  \n",
       "0            1       NaN  \n",
       "1          NaN         2  \n",
       "2          NaN         1  \n",
       "3          NaN         1  \n",
       "4            1       NaN  \n",
       "..         ...       ...  \n",
       "475          1       NaN  \n",
       "476        NaN         2  \n",
       "477        NaN         3  \n",
       "478          2       NaN  \n",
       "479          2       NaN  \n",
       "\n",
       "[480 rows x 21 columns]"
      ]
     },
     "execution_count": 154,
     "metadata": {},
     "output_type": "execute_result"
    }
   ],
   "source": [
    "df"
   ]
  },
  {
   "cell_type": "code",
   "execution_count": null,
   "metadata": {},
   "outputs": [
    {
     "data": {
      "text/plain": [
       "<matplotlib.axes._subplots.AxesSubplot at 0x1fddc04e760>"
      ]
     },
     "execution_count": 452,
     "metadata": {},
     "output_type": "execute_result"
    },
    {
     "data": {
      "image/png": "[encoded data removed]",
      "text/plain": [
       "<Figure size 432x288 with 1 Axes>"
      ]
     },
     "metadata": {
      "needs_background": "light"
     },
     "output_type": "display_data"
    }
   ],
   "source": [
    "dfsent=pd.read_csv(\"sentiment2.csv\")\n",
    "dfsent.sentpolari.hist(bins=15)"
   ]
  },
  {
   "cell_type": "code",
   "execution_count": null,
   "metadata": {},
   "outputs": [],
   "source": [
    "df2.to_csv('exploded2.csv')"
   ]
  },
  {
   "cell_type": "code",
   "execution_count": null,
   "metadata": {},
   "outputs": [
    {
     "data": {
      "text/plain": [
       "Business association                   181\n",
       "Company/business organisation          104\n",
       "Non-governmental organisation (NGO)     44\n",
       "Academic/research Institution           31\n",
       "Other                                   17\n",
       "Trade union                             13\n",
       "Consumer organisation                    6\n",
       "EU citizen                               2\n",
       "Name: User type, dtype: int64"
      ]
     },
     "execution_count": 429,
     "metadata": {},
     "output_type": "execute_result"
    }
   ],
   "source": [
    "df2[\"User type\"].value_counts()"
   ]
  },
  {
   "cell_type": "code",
   "execution_count": null,
   "metadata": {},
   "outputs": [],
   "source": [
    "labels_as_list = df[df.About_labels.notna()].About_labels.tolist()"
   ]
  },
  {
   "cell_type": "code",
   "execution_count": 103,
   "metadata": {},
   "outputs": [],
   "source": [
    "labels_sentences = df[df[\"Transparency register number\"].notna()].About_labels.str.split(r'[.]|\\n').explode(\"About_labels\")"
   ]
  },
  {
   "cell_type": "code",
   "execution_count": null,
   "metadata": {},
   "outputs": [],
   "source": [
    "fulltext_sentences = df[df[\"Transparency register number\"].notna()].Fulltext.str.split(r'[.]|\\n').explode(\"Fulltext\")"
   ]
  },
  {
   "cell_type": "code",
   "execution_count": null,
   "metadata": {},
   "outputs": [
    {
     "data": {
      "application/vnd.jupyter.widget-view+json": {
       "model_id": "9f31f68c59ad4dc8a82555c292476f39",
       "version_major": 2,
       "version_minor": 0
      },
      "text/plain": [
       "  0%|          | 0/25916 [00:00<?, ?it/s]"
      ]
     },
     "metadata": {},
     "output_type": "display_data"
    }
   ],
   "source": [
    "fulltext_preprocessed, fulltext_lemmas, fulltext_vocab1, fulltext_vocab2, fulltext_cloud_df = preprocess(fulltext_sentences, \"english\")"
   ]
  },
  {
   "cell_type": "code",
   "execution_count": 104,
   "metadata": {},
   "outputs": [],
   "source": [
    "labels_sentences = df[df[\"Transparency register number\"].isna()].About_labels.str.split(r'[.]|\\n').explode(\"About_labels\")"
   ]
  },
  {
   "cell_type": "code",
   "execution_count": null,
   "metadata": {},
   "outputs": [
    {
     "data": {
      "application/vnd.jupyter.widget-view+json": {
       "model_id": "9660be1329764b1b961d299ab9601376",
       "version_major": 2,
       "version_minor": 0
      },
      "text/plain": [
       "  0%|          | 0/154 [00:00<?, ?it/s]"
      ]
     },
     "metadata": {},
     "output_type": "display_data"
    }
   ],
   "source": [
    "labels_preprocessed, labels_lemmas, labels_vocab1, labels_vocab2, labels_cloud = preprocess(df.About_labels.to_list(), \"english\")"
   ]
  },
  {
   "cell_type": "code",
   "execution_count": null,
   "metadata": {},
   "outputs": [
    {
     "ename": "AttributeError",
     "evalue": "'float' object has no attribute 'lower'",
     "output_type": "error",
     "traceback": [
      "\u001b[1;31m---------------------------------------------------------------------------\u001b[0m",
      "\u001b[1;31mAttributeError\u001b[0m                            Traceback (most recent call last)",
      "\u001b[1;32m<ipython-input-38-efa946af0fad>\u001b[0m in \u001b[0;36m<module>\u001b[1;34m\u001b[0m\n\u001b[1;32m----> 1\u001b[1;33m \u001b[0mlabels_preprocessed\u001b[0m\u001b[1;33m,\u001b[0m \u001b[0mlabels_lemmas\u001b[0m\u001b[1;33m,\u001b[0m \u001b[0mlabels_vocab1\u001b[0m\u001b[1;33m,\u001b[0m \u001b[0mlabels_vocab2\u001b[0m\u001b[1;33m,\u001b[0m \u001b[0mcloud_df\u001b[0m \u001b[1;33m=\u001b[0m \u001b[0mpreprocess\u001b[0m\u001b[1;33m(\u001b[0m\u001b[0mlabels_sentences\u001b[0m\u001b[1;33m,\u001b[0m \u001b[1;34m\"english\"\u001b[0m\u001b[1;33m)\u001b[0m\u001b[1;33m\u001b[0m\u001b[1;33m\u001b[0m\u001b[0m\n\u001b[0m",
      "\u001b[1;32m<ipython-input-25-b2c64a3bf6f0>\u001b[0m in \u001b[0;36mpreprocess\u001b[1;34m(docs, language)\u001b[0m\n\u001b[0;32m      7\u001b[0m     \u001b[0mpreprocessed_docs_tmp\u001b[0m \u001b[1;33m=\u001b[0m \u001b[0mdocs\u001b[0m\u001b[1;33m\u001b[0m\u001b[1;33m\u001b[0m\u001b[0m\n\u001b[0;32m      8\u001b[0m     \u001b[1;31m# On retire la casse\u001b[0m\u001b[1;33m\u001b[0m\u001b[1;33m\u001b[0m\u001b[1;33m\u001b[0m\u001b[0m\n\u001b[1;32m----> 9\u001b[1;33m     \u001b[0mpreprocessed_docs_tmp\u001b[0m \u001b[1;33m=\u001b[0m \u001b[1;33m[\u001b[0m\u001b[0mdoc\u001b[0m\u001b[1;33m.\u001b[0m\u001b[0mlower\u001b[0m\u001b[1;33m(\u001b[0m\u001b[1;33m)\u001b[0m \u001b[1;32mfor\u001b[0m \u001b[0mdoc\u001b[0m \u001b[1;32min\u001b[0m \u001b[0mpreprocessed_docs_tmp\u001b[0m\u001b[1;33m]\u001b[0m\u001b[1;33m\u001b[0m\u001b[1;33m\u001b[0m\u001b[0m\n\u001b[0m\u001b[0;32m     10\u001b[0m     \u001b[1;31m# On retire le html, les emojis, la ponctuation, stopwords\u001b[0m\u001b[1;33m\u001b[0m\u001b[1;33m\u001b[0m\u001b[1;33m\u001b[0m\u001b[0m\n\u001b[0;32m     11\u001b[0m     \u001b[0mpreprocessed_docs_tmp\u001b[0m \u001b[1;33m=\u001b[0m \u001b[1;33m[\u001b[0m\u001b[0mremove_html\u001b[0m\u001b[1;33m(\u001b[0m\u001b[0mdoc\u001b[0m\u001b[1;33m)\u001b[0m \u001b[1;32mfor\u001b[0m \u001b[0mdoc\u001b[0m \u001b[1;32min\u001b[0m \u001b[0mpreprocessed_docs_tmp\u001b[0m\u001b[1;33m]\u001b[0m\u001b[1;33m\u001b[0m\u001b[1;33m\u001b[0m\u001b[0m\n",
      "\u001b[1;32m<ipython-input-25-b2c64a3bf6f0>\u001b[0m in \u001b[0;36m<listcomp>\u001b[1;34m(.0)\u001b[0m\n\u001b[0;32m      7\u001b[0m     \u001b[0mpreprocessed_docs_tmp\u001b[0m \u001b[1;33m=\u001b[0m \u001b[0mdocs\u001b[0m\u001b[1;33m\u001b[0m\u001b[1;33m\u001b[0m\u001b[0m\n\u001b[0;32m      8\u001b[0m     \u001b[1;31m# On retire la casse\u001b[0m\u001b[1;33m\u001b[0m\u001b[1;33m\u001b[0m\u001b[1;33m\u001b[0m\u001b[0m\n\u001b[1;32m----> 9\u001b[1;33m     \u001b[0mpreprocessed_docs_tmp\u001b[0m \u001b[1;33m=\u001b[0m \u001b[1;33m[\u001b[0m\u001b[0mdoc\u001b[0m\u001b[1;33m.\u001b[0m\u001b[0mlower\u001b[0m\u001b[1;33m(\u001b[0m\u001b[1;33m)\u001b[0m \u001b[1;32mfor\u001b[0m \u001b[0mdoc\u001b[0m \u001b[1;32min\u001b[0m \u001b[0mpreprocessed_docs_tmp\u001b[0m\u001b[1;33m]\u001b[0m\u001b[1;33m\u001b[0m\u001b[1;33m\u001b[0m\u001b[0m\n\u001b[0m\u001b[0;32m     10\u001b[0m     \u001b[1;31m# On retire le html, les emojis, la ponctuation, stopwords\u001b[0m\u001b[1;33m\u001b[0m\u001b[1;33m\u001b[0m\u001b[1;33m\u001b[0m\u001b[0m\n\u001b[0;32m     11\u001b[0m     \u001b[0mpreprocessed_docs_tmp\u001b[0m \u001b[1;33m=\u001b[0m \u001b[1;33m[\u001b[0m\u001b[0mremove_html\u001b[0m\u001b[1;33m(\u001b[0m\u001b[0mdoc\u001b[0m\u001b[1;33m)\u001b[0m \u001b[1;32mfor\u001b[0m \u001b[0mdoc\u001b[0m \u001b[1;32min\u001b[0m \u001b[0mpreprocessed_docs_tmp\u001b[0m\u001b[1;33m]\u001b[0m\u001b[1;33m\u001b[0m\u001b[1;33m\u001b[0m\u001b[0m\n",
      "\u001b[1;31mAttributeError\u001b[0m: 'float' object has no attribute 'lower'"
     ]
    }
   ],
   "source": [
    "labels_preprocessed, labels_lemmas, labels_vocab1, labels_vocab2, cloud_df = preprocess(labels_sentences, \"english\")\n"
   ]
  },
  {
   "cell_type": "code",
   "execution_count": null,
   "metadata": {},
   "outputs": [
    {
     "data": {
      "image/png": "[encoded data removed]",
      "text/plain": [
       "<Figure size 720x576 with 1 Axes>"
      ]
     },
     "metadata": {},
     "output_type": "display_data"
    }
   ],
   "source": [
    "# NO TRANSP NUMBER\n",
    "\n",
    "word_cloud = WordCloud(width = 512, height = 512, background_color='white', colormap=\"winter\").generate_from_frequencies(labels_cloud)\n",
    "plt.figure(figsize=(10,8),facecolor = 'white', edgecolor='blue')\n",
    "plt.imshow(word_cloud)\n",
    "plt.axis('off')\n",
    "plt.tight_layout(pad=0)\n",
    "plt.title('Select')\n",
    "plt.show()"
   ]
  },
  {
   "cell_type": "code",
   "execution_count": null,
   "metadata": {},
   "outputs": [],
   "source": [
    "#TRANSPARENCY (1,3)\n",
    "\n",
    "word_cloud = WordCloud(width = 1024, height = 1024, background_color='white', colormap=\"copper\").generate_from_frequencies(cloud_df)\n",
    "plt.figure(figsize=(10,8),facecolor = 'white', edgecolor='blue')\n",
    "plt.imshow(word_cloud)\n",
    "plt.axis('off')\n",
    "plt.tight_layout(pad=0)\n",
    "plt.title('Select')\n",
    "plt.show()"
   ]
  },
  {
   "cell_type": "code",
   "execution_count": null,
   "metadata": {},
   "outputs": [
    {
     "ename": "NameError",
     "evalue": "name 'WordCloud' is not defined",
     "output_type": "error",
     "traceback": [
      "\u001b[1;31m---------------------------------------------------------------------------\u001b[0m",
      "\u001b[1;31mNameError\u001b[0m                                 Traceback (most recent call last)",
      "\u001b[1;32m<ipython-input-37-c28021ffd92a>\u001b[0m in \u001b[0;36m<module>\u001b[1;34m\u001b[0m\n\u001b[0;32m      2\u001b[0m \u001b[1;33m\u001b[0m\u001b[0m\n\u001b[0;32m      3\u001b[0m \u001b[1;33m\u001b[0m\u001b[0m\n\u001b[1;32m----> 4\u001b[1;33m \u001b[0mword_cloud\u001b[0m \u001b[1;33m=\u001b[0m \u001b[0mWordCloud\u001b[0m\u001b[1;33m(\u001b[0m\u001b[0mwidth\u001b[0m \u001b[1;33m=\u001b[0m \u001b[1;36m512\u001b[0m\u001b[1;33m,\u001b[0m \u001b[0mheight\u001b[0m \u001b[1;33m=\u001b[0m \u001b[1;36m512\u001b[0m\u001b[1;33m,\u001b[0m \u001b[0mbackground_color\u001b[0m\u001b[1;33m=\u001b[0m\u001b[1;34m'white'\u001b[0m\u001b[1;33m)\u001b[0m\u001b[1;33m.\u001b[0m\u001b[0mgenerate_from_frequencies\u001b[0m\u001b[1;33m(\u001b[0m\u001b[0mcloud_df\u001b[0m\u001b[1;33m)\u001b[0m\u001b[1;33m\u001b[0m\u001b[1;33m\u001b[0m\u001b[0m\n\u001b[0m\u001b[0;32m      5\u001b[0m \u001b[0mplt\u001b[0m\u001b[1;33m.\u001b[0m\u001b[0mfigure\u001b[0m\u001b[1;33m(\u001b[0m\u001b[0mfigsize\u001b[0m\u001b[1;33m=\u001b[0m\u001b[1;33m(\u001b[0m\u001b[1;36m10\u001b[0m\u001b[1;33m,\u001b[0m\u001b[1;36m8\u001b[0m\u001b[1;33m)\u001b[0m\u001b[1;33m,\u001b[0m\u001b[0mfacecolor\u001b[0m \u001b[1;33m=\u001b[0m \u001b[1;34m'white'\u001b[0m\u001b[1;33m,\u001b[0m \u001b[0medgecolor\u001b[0m\u001b[1;33m=\u001b[0m\u001b[1;34m'blue'\u001b[0m\u001b[1;33m)\u001b[0m\u001b[1;33m\u001b[0m\u001b[1;33m\u001b[0m\u001b[0m\n\u001b[0;32m      6\u001b[0m \u001b[0mplt\u001b[0m\u001b[1;33m.\u001b[0m\u001b[0mimshow\u001b[0m\u001b[1;33m(\u001b[0m\u001b[0mword_cloud\u001b[0m\u001b[1;33m)\u001b[0m\u001b[1;33m\u001b[0m\u001b[1;33m\u001b[0m\u001b[0m\n",
      "\u001b[1;31mNameError\u001b[0m: name 'WordCloud' is not defined"
     ]
    }
   ],
   "source": [
    "# vectorizer = TfidfVectorizer(ngram_range=(1,3), max_features=vocabulary_size, max_df=0.25) CELUI CI EST OK\n",
    "\n",
    "\n",
    "word_cloud = WordCloud(width = 512, height = 512, background_color='white').generate_from_frequencies(cloud_df)\n",
    "plt.figure(figsize=(10,8),facecolor = 'white', edgecolor='blue')\n",
    "plt.imshow(word_cloud)\n",
    "plt.axis('off')\n",
    "plt.tight_layout(pad=0)\n",
    "plt.title('Select')\n",
    "plt.show()"
   ]
  },
  {
   "cell_type": "code",
   "execution_count": null,
   "metadata": {},
   "outputs": [],
   "source": [
    "df[\"Fulltext_lemmas\"] = pd.Series(fulltext_lemmas)\n",
    "df[\"Label_lemmas\"] = pd.Series(label_lemmas)"
   ]
  },
  {
   "cell_type": "code",
   "execution_count": null,
   "metadata": {},
   "outputs": [],
   "source": [
    "df.to_csv('data_EU_prepro.csv')"
   ]
  },
  {
   "cell_type": "markdown",
   "metadata": {},
   "source": [
    "### Wordclouds"
   ]
  },
  {
   "cell_type": "code",
   "execution_count": null,
   "metadata": {},
   "outputs": [
    {
     "name": "stderr",
     "output_type": "stream",
     "text": [
      "[nltk_data] Downloading package punkt to\n",
      "[nltk_data]     C:\\Users\\GGB\\AppData\\Roaming\\nltk_data...\n",
      "[nltk_data]   Package punkt is already up-to-date!\n"
     ]
    }
   ],
   "source": [
    "import pandas as pd\n",
    "import numpy as np\n",
    "import matplotlib.pyplot as plt\n",
    "\n",
    "from PIL import *\n",
    "import requests\n",
    "\n",
    "from collections import Counter\n",
    "from wordcloud import WordCloud, STOPWORDS\n",
    "import nltk\n",
    "from nltk import word_tokenize\n",
    "nltk.download('punkt')\n",
    "from gensim.parsing.preprocessing import remove_stopwords\n",
    "\n",
    "import numpy as np"
   ]
  },
  {
   "cell_type": "code",
   "execution_count": null,
   "metadata": {},
   "outputs": [],
   "source": [
    "word_cloud = WordCloud(width = 512, height = 512, background_color='white', mask=circle_mask).generate(elecleft)\n",
    "plt.figure(figsize=(10,8),facecolor = 'white', edgecolor='blue')\n",
    "plt.imshow(word_cloud)\n",
    "plt.axis('off')\n",
    "plt.tight_layout(pad=0)\n",
    "plt.title('American Elections query (Alt Left)')\n",
    "plt.show()"
   ]
  },
  {
   "cell_type": "markdown",
   "metadata": {},
   "source": [
    "### BERT/TRANSFORMERS"
   ]
  },
  {
   "cell_type": "code",
   "execution_count": null,
   "metadata": {},
   "outputs": [],
   "source": [
    "from transformers import AutoTokenizer, AutoModelForSequenceClassification\n",
    "  \n",
    "tokenizer = AutoTokenizer.from_pretrained(\"nlptown/bert-base-multilingual-uncased-sentiment\")\n",
    "\n",
    "model = AutoModelForSequenceClassification.from_pretrained(\"nlptown/bert-base-multilingual-uncased-sentiment\")"
   ]
  },
  {
   "cell_type": "code",
   "execution_count": null,
   "metadata": {},
   "outputs": [],
   "source": [
    "from transformers import AutoModelWithLMHead, AutoTokenizer\n",
    "\n",
    "tokenizer = AutoTokenizer.from_pretrained(\"mrm8488/t5-base-finetuned-span-sentiment-extraction\")\n",
    "model = AutoModelWithLMHead.from_pretrained(\"mrm8488/t5-base-finetuned-span-sentiment-extraction\")\n",
    "\n",
    "def get_sentiment_span(text):\n",
    "  input_ids = tokenizer.encode(text, return_tensors=\"pt\", add_special_tokens=True)  # Batch size 1\n",
    "\n",
    "  generated_ids = model.generate(input_ids=input_ids, num_beams=1, max_length=80).squeeze()\n",
    "\n",
    "  predicted_span = tokenizer.decode(generated_ids, skip_special_tokens=True, clean_up_tokenization_spaces=True)\n",
    "\n",
    "  return predicted_span\n",
    "\n",
    "get_sentiment_span(\"question: negative context: My bike was put on hold...should have known that.... argh total bummer\")\n",
    "\n",
    "# output: 'argh total bummer'\n",
    "\n",
    "get_sentiment_span(\"question: positive context: On the monday, so i wont be able to be with you! i love you\")"
   ]
  },
  {
   "cell_type": "markdown",
   "metadata": {},
   "source": [
    "### LSTM"
   ]
  },
  {
   "cell_type": "code",
   "execution_count": null,
   "metadata": {},
   "outputs": [],
   "source": [
    "data = pd.read_csv('../input/Sentiment.csv')\n",
    "# Keeping only the neccessary columns\n",
    "data = data[['text','sentiment']]"
   ]
  },
  {
   "cell_type": "code",
   "execution_count": null,
   "metadata": {},
   "outputs": [],
   "source": [
    "from sklearn.feature_extraction.text import CountVectorizer\n",
    "from keras.preprocessing.text import Tokenizer\n",
    "from keras.preprocessing.sequence import pad_sequences\n",
    "from keras.models import Sequential\n",
    "from keras.layers import Dense, Embedding, LSTM, SpatialDropout1D\n",
    "from sklearn.model_selection import train_test_split\n",
    "from keras.utils.np_utils import to_categorical\n",
    "import re\n"
   ]
  },
  {
   "cell_type": "markdown",
   "metadata": {},
   "source": [
    "### LDA"
   ]
  },
  {
   "cell_type": "code",
   "execution_count": null,
   "metadata": {},
   "outputs": [],
   "source": [
    "#libraries datascience\n",
    "import pandas as pd\n",
    "import os\n",
    "import numpy as np\n",
    "import pickle\n",
    "from tqdm import tqdm"
   ]
  },
  {
   "cell_type": "code",
   "execution_count": null,
   "metadata": {},
   "outputs": [],
   "source": [
    "from gensim.corpora.dictionary import Dictionary\n",
    "from gensim.models import ldamodel "
   ]
  },
  {
   "cell_type": "code",
   "execution_count": null,
   "metadata": {},
   "outputs": [],
   "source": [
    "lda_text = list(map(lambda x : x.split(), fulltext_lemmas))\n",
    "\n",
    "id2word = Dictionary(lda_text)\n",
    "texts = lda_text\n",
    "corpus = [id2word.doc2bow(text) for text in texts]\n",
    "\n",
    "lda_model = ldamodel.LdaModel(\n",
    "   corpus=corpus, id2word=id2word, num_topics=50, passes=150, alpha='auto', per_word_topics=True, iterations=500\n",
    ")"
   ]
  },
  {
   "cell_type": "code",
   "execution_count": null,
   "metadata": {},
   "outputs": [],
   "source": [
    "lda_topics = []\n",
    "for i in range(50):\n",
    "    t = [w[0] for w in lda_model.show_topic(i)[0:10]]\n",
    "    lda_topics.append(t)\n",
    "lda_topics"
   ]
  },
  {
   "cell_type": "markdown",
   "metadata": {},
   "source": [
    "### BERTOPIC"
   ]
  },
  {
   "cell_type": "code",
   "execution_count": null,
   "metadata": {},
   "outputs": [],
   "source": [
    "model = BERTopic(nr_topics=50)\n",
    "topics, _ = model.fit_transform(df.About_labels.to_list())"
   ]
  }
 ],
 "metadata": {
  "kernelspec": {
   "display_name": "Python 3.8.3 64-bit",
   "language": "python",
   "name": "python3"
  },
  "language_info": {
   "codemirror_mode": {
    "name": "ipython",
    "version": 3
   },
   "file_extension": ".py",
   "mimetype": "text/x-python",
   "name": "python",
   "nbconvert_exporter": "python",
   "pygments_lexer": "ipython3",
   "version": "3.8.3"
  },
  "orig_nbformat": 4,
  "vscode": {
   "interpreter": {
    "hash": "ad2bdc8ecc057115af97d19610ffacc2b4e99fae6737bb82f5d7fb13d2f2c186"
   }
  }
 },
 "nbformat": 4,
 "nbformat_minor": 2
}
